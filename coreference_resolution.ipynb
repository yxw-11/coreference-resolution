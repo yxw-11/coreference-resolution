{
  "nbformat": 4,
  "nbformat_minor": 0,
  "metadata": {
    "colab": {
      "name": "coreference resolution.ipynb",
      "provenance": [],
      "collapsed_sections": [
        "_-llwuEQJBCx",
        "txRGMHO6cb_T",
        "w9_yQJMseenB"
      ]
    },
    "kernelspec": {
      "name": "python3",
      "display_name": "Python 3"
    },
    "language_info": {
      "name": "python"
    },
    "widgets": {
      "application/vnd.jupyter.widget-state+json": {
        "597e88ab16524991ba04ca03616d3fe7": {
          "model_module": "@jupyter-widgets/controls",
          "model_name": "HBoxModel",
          "model_module_version": "1.5.0",
          "state": {
            "_view_name": "HBoxView",
            "_dom_classes": [],
            "_model_name": "HBoxModel",
            "_view_module": "@jupyter-widgets/controls",
            "_model_module_version": "1.5.0",
            "_view_count": null,
            "_view_module_version": "1.5.0",
            "box_style": "",
            "layout": "IPY_MODEL_3b6c997028ab480fa65d7d28805681fd",
            "_model_module": "@jupyter-widgets/controls",
            "children": [
              "IPY_MODEL_4653f4a6939f4ca381ffde6ebcba3f78",
              "IPY_MODEL_83758a0b65b84b10afbedff53b563240",
              "IPY_MODEL_3e3d464a4c0a40569b0c3253c6046ef2"
            ]
          }
        },
        "3b6c997028ab480fa65d7d28805681fd": {
          "model_module": "@jupyter-widgets/base",
          "model_name": "LayoutModel",
          "model_module_version": "1.2.0",
          "state": {
            "_view_name": "LayoutView",
            "grid_template_rows": null,
            "right": null,
            "justify_content": null,
            "_view_module": "@jupyter-widgets/base",
            "overflow": null,
            "_model_module_version": "1.2.0",
            "_view_count": null,
            "flex_flow": null,
            "width": null,
            "min_width": null,
            "border": null,
            "align_items": null,
            "bottom": null,
            "_model_module": "@jupyter-widgets/base",
            "top": null,
            "grid_column": null,
            "overflow_y": null,
            "overflow_x": null,
            "grid_auto_flow": null,
            "grid_area": null,
            "grid_template_columns": null,
            "flex": null,
            "_model_name": "LayoutModel",
            "justify_items": null,
            "grid_row": null,
            "max_height": null,
            "align_content": null,
            "visibility": null,
            "align_self": null,
            "height": null,
            "min_height": null,
            "padding": null,
            "grid_auto_rows": null,
            "grid_gap": null,
            "max_width": null,
            "order": null,
            "_view_module_version": "1.2.0",
            "grid_template_areas": null,
            "object_position": null,
            "object_fit": null,
            "grid_auto_columns": null,
            "margin": null,
            "display": null,
            "left": null
          }
        },
        "4653f4a6939f4ca381ffde6ebcba3f78": {
          "model_module": "@jupyter-widgets/controls",
          "model_name": "HTMLModel",
          "model_module_version": "1.5.0",
          "state": {
            "_view_name": "HTMLView",
            "style": "IPY_MODEL_28c18c76ef7243d79c40932f9bee5ffe",
            "_dom_classes": [],
            "description": "",
            "_model_name": "HTMLModel",
            "placeholder": "​",
            "_view_module": "@jupyter-widgets/controls",
            "_model_module_version": "1.5.0",
            "value": "Downloading: 100%",
            "_view_count": null,
            "_view_module_version": "1.5.0",
            "description_tooltip": null,
            "_model_module": "@jupyter-widgets/controls",
            "layout": "IPY_MODEL_8dee8deaa2774f4bbf8d5f297de083c7"
          }
        },
        "83758a0b65b84b10afbedff53b563240": {
          "model_module": "@jupyter-widgets/controls",
          "model_name": "FloatProgressModel",
          "model_module_version": "1.5.0",
          "state": {
            "_view_name": "ProgressView",
            "style": "IPY_MODEL_12c36f2e587e4957a7e9a33e9d84e31e",
            "_dom_classes": [],
            "description": "",
            "_model_name": "FloatProgressModel",
            "bar_style": "success",
            "max": 213450,
            "_view_module": "@jupyter-widgets/controls",
            "_model_module_version": "1.5.0",
            "value": 213450,
            "_view_count": null,
            "_view_module_version": "1.5.0",
            "orientation": "horizontal",
            "min": 0,
            "description_tooltip": null,
            "_model_module": "@jupyter-widgets/controls",
            "layout": "IPY_MODEL_5aa8c37f64194f15b6eb78f6c3f6b3c0"
          }
        },
        "3e3d464a4c0a40569b0c3253c6046ef2": {
          "model_module": "@jupyter-widgets/controls",
          "model_name": "HTMLModel",
          "model_module_version": "1.5.0",
          "state": {
            "_view_name": "HTMLView",
            "style": "IPY_MODEL_bb886007e40e4b5e94ad8012dfddfc2a",
            "_dom_classes": [],
            "description": "",
            "_model_name": "HTMLModel",
            "placeholder": "​",
            "_view_module": "@jupyter-widgets/controls",
            "_model_module_version": "1.5.0",
            "value": " 213k/213k [00:00&lt;00:00, 629kB/s]",
            "_view_count": null,
            "_view_module_version": "1.5.0",
            "description_tooltip": null,
            "_model_module": "@jupyter-widgets/controls",
            "layout": "IPY_MODEL_a9d31313b89945809358e9d14cfe3bc5"
          }
        },
        "28c18c76ef7243d79c40932f9bee5ffe": {
          "model_module": "@jupyter-widgets/controls",
          "model_name": "DescriptionStyleModel",
          "model_module_version": "1.5.0",
          "state": {
            "_view_name": "StyleView",
            "_model_name": "DescriptionStyleModel",
            "description_width": "",
            "_view_module": "@jupyter-widgets/base",
            "_model_module_version": "1.5.0",
            "_view_count": null,
            "_view_module_version": "1.2.0",
            "_model_module": "@jupyter-widgets/controls"
          }
        },
        "8dee8deaa2774f4bbf8d5f297de083c7": {
          "model_module": "@jupyter-widgets/base",
          "model_name": "LayoutModel",
          "model_module_version": "1.2.0",
          "state": {
            "_view_name": "LayoutView",
            "grid_template_rows": null,
            "right": null,
            "justify_content": null,
            "_view_module": "@jupyter-widgets/base",
            "overflow": null,
            "_model_module_version": "1.2.0",
            "_view_count": null,
            "flex_flow": null,
            "width": null,
            "min_width": null,
            "border": null,
            "align_items": null,
            "bottom": null,
            "_model_module": "@jupyter-widgets/base",
            "top": null,
            "grid_column": null,
            "overflow_y": null,
            "overflow_x": null,
            "grid_auto_flow": null,
            "grid_area": null,
            "grid_template_columns": null,
            "flex": null,
            "_model_name": "LayoutModel",
            "justify_items": null,
            "grid_row": null,
            "max_height": null,
            "align_content": null,
            "visibility": null,
            "align_self": null,
            "height": null,
            "min_height": null,
            "padding": null,
            "grid_auto_rows": null,
            "grid_gap": null,
            "max_width": null,
            "order": null,
            "_view_module_version": "1.2.0",
            "grid_template_areas": null,
            "object_position": null,
            "object_fit": null,
            "grid_auto_columns": null,
            "margin": null,
            "display": null,
            "left": null
          }
        },
        "12c36f2e587e4957a7e9a33e9d84e31e": {
          "model_module": "@jupyter-widgets/controls",
          "model_name": "ProgressStyleModel",
          "model_module_version": "1.5.0",
          "state": {
            "_view_name": "StyleView",
            "_model_name": "ProgressStyleModel",
            "description_width": "",
            "_view_module": "@jupyter-widgets/base",
            "_model_module_version": "1.5.0",
            "_view_count": null,
            "_view_module_version": "1.2.0",
            "bar_color": null,
            "_model_module": "@jupyter-widgets/controls"
          }
        },
        "5aa8c37f64194f15b6eb78f6c3f6b3c0": {
          "model_module": "@jupyter-widgets/base",
          "model_name": "LayoutModel",
          "model_module_version": "1.2.0",
          "state": {
            "_view_name": "LayoutView",
            "grid_template_rows": null,
            "right": null,
            "justify_content": null,
            "_view_module": "@jupyter-widgets/base",
            "overflow": null,
            "_model_module_version": "1.2.0",
            "_view_count": null,
            "flex_flow": null,
            "width": null,
            "min_width": null,
            "border": null,
            "align_items": null,
            "bottom": null,
            "_model_module": "@jupyter-widgets/base",
            "top": null,
            "grid_column": null,
            "overflow_y": null,
            "overflow_x": null,
            "grid_auto_flow": null,
            "grid_area": null,
            "grid_template_columns": null,
            "flex": null,
            "_model_name": "LayoutModel",
            "justify_items": null,
            "grid_row": null,
            "max_height": null,
            "align_content": null,
            "visibility": null,
            "align_self": null,
            "height": null,
            "min_height": null,
            "padding": null,
            "grid_auto_rows": null,
            "grid_gap": null,
            "max_width": null,
            "order": null,
            "_view_module_version": "1.2.0",
            "grid_template_areas": null,
            "object_position": null,
            "object_fit": null,
            "grid_auto_columns": null,
            "margin": null,
            "display": null,
            "left": null
          }
        },
        "bb886007e40e4b5e94ad8012dfddfc2a": {
          "model_module": "@jupyter-widgets/controls",
          "model_name": "DescriptionStyleModel",
          "model_module_version": "1.5.0",
          "state": {
            "_view_name": "StyleView",
            "_model_name": "DescriptionStyleModel",
            "description_width": "",
            "_view_module": "@jupyter-widgets/base",
            "_model_module_version": "1.5.0",
            "_view_count": null,
            "_view_module_version": "1.2.0",
            "_model_module": "@jupyter-widgets/controls"
          }
        },
        "a9d31313b89945809358e9d14cfe3bc5": {
          "model_module": "@jupyter-widgets/base",
          "model_name": "LayoutModel",
          "model_module_version": "1.2.0",
          "state": {
            "_view_name": "LayoutView",
            "grid_template_rows": null,
            "right": null,
            "justify_content": null,
            "_view_module": "@jupyter-widgets/base",
            "overflow": null,
            "_model_module_version": "1.2.0",
            "_view_count": null,
            "flex_flow": null,
            "width": null,
            "min_width": null,
            "border": null,
            "align_items": null,
            "bottom": null,
            "_model_module": "@jupyter-widgets/base",
            "top": null,
            "grid_column": null,
            "overflow_y": null,
            "overflow_x": null,
            "grid_auto_flow": null,
            "grid_area": null,
            "grid_template_columns": null,
            "flex": null,
            "_model_name": "LayoutModel",
            "justify_items": null,
            "grid_row": null,
            "max_height": null,
            "align_content": null,
            "visibility": null,
            "align_self": null,
            "height": null,
            "min_height": null,
            "padding": null,
            "grid_auto_rows": null,
            "grid_gap": null,
            "max_width": null,
            "order": null,
            "_view_module_version": "1.2.0",
            "grid_template_areas": null,
            "object_position": null,
            "object_fit": null,
            "grid_auto_columns": null,
            "margin": null,
            "display": null,
            "left": null
          }
        },
        "de5653082fb7409d8b8968611f3b89f5": {
          "model_module": "@jupyter-widgets/controls",
          "model_name": "HBoxModel",
          "model_module_version": "1.5.0",
          "state": {
            "_view_name": "HBoxView",
            "_dom_classes": [],
            "_model_name": "HBoxModel",
            "_view_module": "@jupyter-widgets/controls",
            "_model_module_version": "1.5.0",
            "_view_count": null,
            "_view_module_version": "1.5.0",
            "box_style": "",
            "layout": "IPY_MODEL_80cb17d720184253bdb97bc2ee8cd510",
            "_model_module": "@jupyter-widgets/controls",
            "children": [
              "IPY_MODEL_99eb786bc0604c6986fba34d20418638",
              "IPY_MODEL_c0e971615f364dafae25fe37124f265a",
              "IPY_MODEL_4aef28d9524b4ee3a148b79f160b6e70"
            ]
          }
        },
        "80cb17d720184253bdb97bc2ee8cd510": {
          "model_module": "@jupyter-widgets/base",
          "model_name": "LayoutModel",
          "model_module_version": "1.2.0",
          "state": {
            "_view_name": "LayoutView",
            "grid_template_rows": null,
            "right": null,
            "justify_content": null,
            "_view_module": "@jupyter-widgets/base",
            "overflow": null,
            "_model_module_version": "1.2.0",
            "_view_count": null,
            "flex_flow": null,
            "width": null,
            "min_width": null,
            "border": null,
            "align_items": null,
            "bottom": null,
            "_model_module": "@jupyter-widgets/base",
            "top": null,
            "grid_column": null,
            "overflow_y": null,
            "overflow_x": null,
            "grid_auto_flow": null,
            "grid_area": null,
            "grid_template_columns": null,
            "flex": null,
            "_model_name": "LayoutModel",
            "justify_items": null,
            "grid_row": null,
            "max_height": null,
            "align_content": null,
            "visibility": null,
            "align_self": null,
            "height": null,
            "min_height": null,
            "padding": null,
            "grid_auto_rows": null,
            "grid_gap": null,
            "max_width": null,
            "order": null,
            "_view_module_version": "1.2.0",
            "grid_template_areas": null,
            "object_position": null,
            "object_fit": null,
            "grid_auto_columns": null,
            "margin": null,
            "display": null,
            "left": null
          }
        },
        "99eb786bc0604c6986fba34d20418638": {
          "model_module": "@jupyter-widgets/controls",
          "model_name": "HTMLModel",
          "model_module_version": "1.5.0",
          "state": {
            "_view_name": "HTMLView",
            "style": "IPY_MODEL_6fd361eb4dc54aa59ffdd5d3f4b8ae8d",
            "_dom_classes": [],
            "description": "",
            "_model_name": "HTMLModel",
            "placeholder": "​",
            "_view_module": "@jupyter-widgets/controls",
            "_model_module_version": "1.5.0",
            "value": "Downloading: 100%",
            "_view_count": null,
            "_view_module_version": "1.5.0",
            "description_tooltip": null,
            "_model_module": "@jupyter-widgets/controls",
            "layout": "IPY_MODEL_cdfbb83a3e6a42d3adaf950ad10531a8"
          }
        },
        "c0e971615f364dafae25fe37124f265a": {
          "model_module": "@jupyter-widgets/controls",
          "model_name": "FloatProgressModel",
          "model_module_version": "1.5.0",
          "state": {
            "_view_name": "ProgressView",
            "style": "IPY_MODEL_5e9a5d72702644d6ba3c663227c9e3f5",
            "_dom_classes": [],
            "description": "",
            "_model_name": "FloatProgressModel",
            "bar_style": "success",
            "max": 435797,
            "_view_module": "@jupyter-widgets/controls",
            "_model_module_version": "1.5.0",
            "value": 435797,
            "_view_count": null,
            "_view_module_version": "1.5.0",
            "orientation": "horizontal",
            "min": 0,
            "description_tooltip": null,
            "_model_module": "@jupyter-widgets/controls",
            "layout": "IPY_MODEL_3a6372511e654e7883965c5185d89d9c"
          }
        },
        "4aef28d9524b4ee3a148b79f160b6e70": {
          "model_module": "@jupyter-widgets/controls",
          "model_name": "HTMLModel",
          "model_module_version": "1.5.0",
          "state": {
            "_view_name": "HTMLView",
            "style": "IPY_MODEL_1158a1d314c940a18f5a3f60ced5f2fe",
            "_dom_classes": [],
            "description": "",
            "_model_name": "HTMLModel",
            "placeholder": "​",
            "_view_module": "@jupyter-widgets/controls",
            "_model_module_version": "1.5.0",
            "value": " 436k/436k [00:00&lt;00:00, 564kB/s]",
            "_view_count": null,
            "_view_module_version": "1.5.0",
            "description_tooltip": null,
            "_model_module": "@jupyter-widgets/controls",
            "layout": "IPY_MODEL_02bd0f8326e84d9997f0f188de3c3dc2"
          }
        },
        "6fd361eb4dc54aa59ffdd5d3f4b8ae8d": {
          "model_module": "@jupyter-widgets/controls",
          "model_name": "DescriptionStyleModel",
          "model_module_version": "1.5.0",
          "state": {
            "_view_name": "StyleView",
            "_model_name": "DescriptionStyleModel",
            "description_width": "",
            "_view_module": "@jupyter-widgets/base",
            "_model_module_version": "1.5.0",
            "_view_count": null,
            "_view_module_version": "1.2.0",
            "_model_module": "@jupyter-widgets/controls"
          }
        },
        "cdfbb83a3e6a42d3adaf950ad10531a8": {
          "model_module": "@jupyter-widgets/base",
          "model_name": "LayoutModel",
          "model_module_version": "1.2.0",
          "state": {
            "_view_name": "LayoutView",
            "grid_template_rows": null,
            "right": null,
            "justify_content": null,
            "_view_module": "@jupyter-widgets/base",
            "overflow": null,
            "_model_module_version": "1.2.0",
            "_view_count": null,
            "flex_flow": null,
            "width": null,
            "min_width": null,
            "border": null,
            "align_items": null,
            "bottom": null,
            "_model_module": "@jupyter-widgets/base",
            "top": null,
            "grid_column": null,
            "overflow_y": null,
            "overflow_x": null,
            "grid_auto_flow": null,
            "grid_area": null,
            "grid_template_columns": null,
            "flex": null,
            "_model_name": "LayoutModel",
            "justify_items": null,
            "grid_row": null,
            "max_height": null,
            "align_content": null,
            "visibility": null,
            "align_self": null,
            "height": null,
            "min_height": null,
            "padding": null,
            "grid_auto_rows": null,
            "grid_gap": null,
            "max_width": null,
            "order": null,
            "_view_module_version": "1.2.0",
            "grid_template_areas": null,
            "object_position": null,
            "object_fit": null,
            "grid_auto_columns": null,
            "margin": null,
            "display": null,
            "left": null
          }
        },
        "5e9a5d72702644d6ba3c663227c9e3f5": {
          "model_module": "@jupyter-widgets/controls",
          "model_name": "ProgressStyleModel",
          "model_module_version": "1.5.0",
          "state": {
            "_view_name": "StyleView",
            "_model_name": "ProgressStyleModel",
            "description_width": "",
            "_view_module": "@jupyter-widgets/base",
            "_model_module_version": "1.5.0",
            "_view_count": null,
            "_view_module_version": "1.2.0",
            "bar_color": null,
            "_model_module": "@jupyter-widgets/controls"
          }
        },
        "3a6372511e654e7883965c5185d89d9c": {
          "model_module": "@jupyter-widgets/base",
          "model_name": "LayoutModel",
          "model_module_version": "1.2.0",
          "state": {
            "_view_name": "LayoutView",
            "grid_template_rows": null,
            "right": null,
            "justify_content": null,
            "_view_module": "@jupyter-widgets/base",
            "overflow": null,
            "_model_module_version": "1.2.0",
            "_view_count": null,
            "flex_flow": null,
            "width": null,
            "min_width": null,
            "border": null,
            "align_items": null,
            "bottom": null,
            "_model_module": "@jupyter-widgets/base",
            "top": null,
            "grid_column": null,
            "overflow_y": null,
            "overflow_x": null,
            "grid_auto_flow": null,
            "grid_area": null,
            "grid_template_columns": null,
            "flex": null,
            "_model_name": "LayoutModel",
            "justify_items": null,
            "grid_row": null,
            "max_height": null,
            "align_content": null,
            "visibility": null,
            "align_self": null,
            "height": null,
            "min_height": null,
            "padding": null,
            "grid_auto_rows": null,
            "grid_gap": null,
            "max_width": null,
            "order": null,
            "_view_module_version": "1.2.0",
            "grid_template_areas": null,
            "object_position": null,
            "object_fit": null,
            "grid_auto_columns": null,
            "margin": null,
            "display": null,
            "left": null
          }
        },
        "1158a1d314c940a18f5a3f60ced5f2fe": {
          "model_module": "@jupyter-widgets/controls",
          "model_name": "DescriptionStyleModel",
          "model_module_version": "1.5.0",
          "state": {
            "_view_name": "StyleView",
            "_model_name": "DescriptionStyleModel",
            "description_width": "",
            "_view_module": "@jupyter-widgets/base",
            "_model_module_version": "1.5.0",
            "_view_count": null,
            "_view_module_version": "1.2.0",
            "_model_module": "@jupyter-widgets/controls"
          }
        },
        "02bd0f8326e84d9997f0f188de3c3dc2": {
          "model_module": "@jupyter-widgets/base",
          "model_name": "LayoutModel",
          "model_module_version": "1.2.0",
          "state": {
            "_view_name": "LayoutView",
            "grid_template_rows": null,
            "right": null,
            "justify_content": null,
            "_view_module": "@jupyter-widgets/base",
            "overflow": null,
            "_model_module_version": "1.2.0",
            "_view_count": null,
            "flex_flow": null,
            "width": null,
            "min_width": null,
            "border": null,
            "align_items": null,
            "bottom": null,
            "_model_module": "@jupyter-widgets/base",
            "top": null,
            "grid_column": null,
            "overflow_y": null,
            "overflow_x": null,
            "grid_auto_flow": null,
            "grid_area": null,
            "grid_template_columns": null,
            "flex": null,
            "_model_name": "LayoutModel",
            "justify_items": null,
            "grid_row": null,
            "max_height": null,
            "align_content": null,
            "visibility": null,
            "align_self": null,
            "height": null,
            "min_height": null,
            "padding": null,
            "grid_auto_rows": null,
            "grid_gap": null,
            "max_width": null,
            "order": null,
            "_view_module_version": "1.2.0",
            "grid_template_areas": null,
            "object_position": null,
            "object_fit": null,
            "grid_auto_columns": null,
            "margin": null,
            "display": null,
            "left": null
          }
        },
        "50f46469e3ee4f3791375c172c533064": {
          "model_module": "@jupyter-widgets/controls",
          "model_name": "HBoxModel",
          "model_module_version": "1.5.0",
          "state": {
            "_view_name": "HBoxView",
            "_dom_classes": [],
            "_model_name": "HBoxModel",
            "_view_module": "@jupyter-widgets/controls",
            "_model_module_version": "1.5.0",
            "_view_count": null,
            "_view_module_version": "1.5.0",
            "box_style": "",
            "layout": "IPY_MODEL_68f36179c7544c03b4f0002613be14ac",
            "_model_module": "@jupyter-widgets/controls",
            "children": [
              "IPY_MODEL_9e1bbebcb7d34e7085cc31101b84bd48",
              "IPY_MODEL_c103914aa8c748b59fce3e2200f88457",
              "IPY_MODEL_973618fa014040c393c0dd6a63245e4a"
            ]
          }
        },
        "68f36179c7544c03b4f0002613be14ac": {
          "model_module": "@jupyter-widgets/base",
          "model_name": "LayoutModel",
          "model_module_version": "1.2.0",
          "state": {
            "_view_name": "LayoutView",
            "grid_template_rows": null,
            "right": null,
            "justify_content": null,
            "_view_module": "@jupyter-widgets/base",
            "overflow": null,
            "_model_module_version": "1.2.0",
            "_view_count": null,
            "flex_flow": null,
            "width": null,
            "min_width": null,
            "border": null,
            "align_items": null,
            "bottom": null,
            "_model_module": "@jupyter-widgets/base",
            "top": null,
            "grid_column": null,
            "overflow_y": null,
            "overflow_x": null,
            "grid_auto_flow": null,
            "grid_area": null,
            "grid_template_columns": null,
            "flex": null,
            "_model_name": "LayoutModel",
            "justify_items": null,
            "grid_row": null,
            "max_height": null,
            "align_content": null,
            "visibility": null,
            "align_self": null,
            "height": null,
            "min_height": null,
            "padding": null,
            "grid_auto_rows": null,
            "grid_gap": null,
            "max_width": null,
            "order": null,
            "_view_module_version": "1.2.0",
            "grid_template_areas": null,
            "object_position": null,
            "object_fit": null,
            "grid_auto_columns": null,
            "margin": null,
            "display": null,
            "left": null
          }
        },
        "9e1bbebcb7d34e7085cc31101b84bd48": {
          "model_module": "@jupyter-widgets/controls",
          "model_name": "HTMLModel",
          "model_module_version": "1.5.0",
          "state": {
            "_view_name": "HTMLView",
            "style": "IPY_MODEL_8bd75d7d610c40cfba6ef679149efbb6",
            "_dom_classes": [],
            "description": "",
            "_model_name": "HTMLModel",
            "placeholder": "​",
            "_view_module": "@jupyter-widgets/controls",
            "_model_module_version": "1.5.0",
            "value": "Downloading: 100%",
            "_view_count": null,
            "_view_module_version": "1.5.0",
            "description_tooltip": null,
            "_model_module": "@jupyter-widgets/controls",
            "layout": "IPY_MODEL_bb4c16ea55564bb5bd27e4008363c380"
          }
        },
        "c103914aa8c748b59fce3e2200f88457": {
          "model_module": "@jupyter-widgets/controls",
          "model_name": "FloatProgressModel",
          "model_module_version": "1.5.0",
          "state": {
            "_view_name": "ProgressView",
            "style": "IPY_MODEL_fb45d2e6f07a4802b0a0efab677199c2",
            "_dom_classes": [],
            "description": "",
            "_model_name": "FloatProgressModel",
            "bar_style": "success",
            "max": 29,
            "_view_module": "@jupyter-widgets/controls",
            "_model_module_version": "1.5.0",
            "value": 29,
            "_view_count": null,
            "_view_module_version": "1.5.0",
            "orientation": "horizontal",
            "min": 0,
            "description_tooltip": null,
            "_model_module": "@jupyter-widgets/controls",
            "layout": "IPY_MODEL_a4b9177f3a734396a1c0daab16d9ca08"
          }
        },
        "973618fa014040c393c0dd6a63245e4a": {
          "model_module": "@jupyter-widgets/controls",
          "model_name": "HTMLModel",
          "model_module_version": "1.5.0",
          "state": {
            "_view_name": "HTMLView",
            "style": "IPY_MODEL_6921a209aa084755b1af155f06c318cb",
            "_dom_classes": [],
            "description": "",
            "_model_name": "HTMLModel",
            "placeholder": "​",
            "_view_module": "@jupyter-widgets/controls",
            "_model_module_version": "1.5.0",
            "value": " 29.0/29.0 [00:00&lt;00:00, 532B/s]",
            "_view_count": null,
            "_view_module_version": "1.5.0",
            "description_tooltip": null,
            "_model_module": "@jupyter-widgets/controls",
            "layout": "IPY_MODEL_f9e1913b5f5143e29b7da53f4863c0ef"
          }
        },
        "8bd75d7d610c40cfba6ef679149efbb6": {
          "model_module": "@jupyter-widgets/controls",
          "model_name": "DescriptionStyleModel",
          "model_module_version": "1.5.0",
          "state": {
            "_view_name": "StyleView",
            "_model_name": "DescriptionStyleModel",
            "description_width": "",
            "_view_module": "@jupyter-widgets/base",
            "_model_module_version": "1.5.0",
            "_view_count": null,
            "_view_module_version": "1.2.0",
            "_model_module": "@jupyter-widgets/controls"
          }
        },
        "bb4c16ea55564bb5bd27e4008363c380": {
          "model_module": "@jupyter-widgets/base",
          "model_name": "LayoutModel",
          "model_module_version": "1.2.0",
          "state": {
            "_view_name": "LayoutView",
            "grid_template_rows": null,
            "right": null,
            "justify_content": null,
            "_view_module": "@jupyter-widgets/base",
            "overflow": null,
            "_model_module_version": "1.2.0",
            "_view_count": null,
            "flex_flow": null,
            "width": null,
            "min_width": null,
            "border": null,
            "align_items": null,
            "bottom": null,
            "_model_module": "@jupyter-widgets/base",
            "top": null,
            "grid_column": null,
            "overflow_y": null,
            "overflow_x": null,
            "grid_auto_flow": null,
            "grid_area": null,
            "grid_template_columns": null,
            "flex": null,
            "_model_name": "LayoutModel",
            "justify_items": null,
            "grid_row": null,
            "max_height": null,
            "align_content": null,
            "visibility": null,
            "align_self": null,
            "height": null,
            "min_height": null,
            "padding": null,
            "grid_auto_rows": null,
            "grid_gap": null,
            "max_width": null,
            "order": null,
            "_view_module_version": "1.2.0",
            "grid_template_areas": null,
            "object_position": null,
            "object_fit": null,
            "grid_auto_columns": null,
            "margin": null,
            "display": null,
            "left": null
          }
        },
        "fb45d2e6f07a4802b0a0efab677199c2": {
          "model_module": "@jupyter-widgets/controls",
          "model_name": "ProgressStyleModel",
          "model_module_version": "1.5.0",
          "state": {
            "_view_name": "StyleView",
            "_model_name": "ProgressStyleModel",
            "description_width": "",
            "_view_module": "@jupyter-widgets/base",
            "_model_module_version": "1.5.0",
            "_view_count": null,
            "_view_module_version": "1.2.0",
            "bar_color": null,
            "_model_module": "@jupyter-widgets/controls"
          }
        },
        "a4b9177f3a734396a1c0daab16d9ca08": {
          "model_module": "@jupyter-widgets/base",
          "model_name": "LayoutModel",
          "model_module_version": "1.2.0",
          "state": {
            "_view_name": "LayoutView",
            "grid_template_rows": null,
            "right": null,
            "justify_content": null,
            "_view_module": "@jupyter-widgets/base",
            "overflow": null,
            "_model_module_version": "1.2.0",
            "_view_count": null,
            "flex_flow": null,
            "width": null,
            "min_width": null,
            "border": null,
            "align_items": null,
            "bottom": null,
            "_model_module": "@jupyter-widgets/base",
            "top": null,
            "grid_column": null,
            "overflow_y": null,
            "overflow_x": null,
            "grid_auto_flow": null,
            "grid_area": null,
            "grid_template_columns": null,
            "flex": null,
            "_model_name": "LayoutModel",
            "justify_items": null,
            "grid_row": null,
            "max_height": null,
            "align_content": null,
            "visibility": null,
            "align_self": null,
            "height": null,
            "min_height": null,
            "padding": null,
            "grid_auto_rows": null,
            "grid_gap": null,
            "max_width": null,
            "order": null,
            "_view_module_version": "1.2.0",
            "grid_template_areas": null,
            "object_position": null,
            "object_fit": null,
            "grid_auto_columns": null,
            "margin": null,
            "display": null,
            "left": null
          }
        },
        "6921a209aa084755b1af155f06c318cb": {
          "model_module": "@jupyter-widgets/controls",
          "model_name": "DescriptionStyleModel",
          "model_module_version": "1.5.0",
          "state": {
            "_view_name": "StyleView",
            "_model_name": "DescriptionStyleModel",
            "description_width": "",
            "_view_module": "@jupyter-widgets/base",
            "_model_module_version": "1.5.0",
            "_view_count": null,
            "_view_module_version": "1.2.0",
            "_model_module": "@jupyter-widgets/controls"
          }
        },
        "f9e1913b5f5143e29b7da53f4863c0ef": {
          "model_module": "@jupyter-widgets/base",
          "model_name": "LayoutModel",
          "model_module_version": "1.2.0",
          "state": {
            "_view_name": "LayoutView",
            "grid_template_rows": null,
            "right": null,
            "justify_content": null,
            "_view_module": "@jupyter-widgets/base",
            "overflow": null,
            "_model_module_version": "1.2.0",
            "_view_count": null,
            "flex_flow": null,
            "width": null,
            "min_width": null,
            "border": null,
            "align_items": null,
            "bottom": null,
            "_model_module": "@jupyter-widgets/base",
            "top": null,
            "grid_column": null,
            "overflow_y": null,
            "overflow_x": null,
            "grid_auto_flow": null,
            "grid_area": null,
            "grid_template_columns": null,
            "flex": null,
            "_model_name": "LayoutModel",
            "justify_items": null,
            "grid_row": null,
            "max_height": null,
            "align_content": null,
            "visibility": null,
            "align_self": null,
            "height": null,
            "min_height": null,
            "padding": null,
            "grid_auto_rows": null,
            "grid_gap": null,
            "max_width": null,
            "order": null,
            "_view_module_version": "1.2.0",
            "grid_template_areas": null,
            "object_position": null,
            "object_fit": null,
            "grid_auto_columns": null,
            "margin": null,
            "display": null,
            "left": null
          }
        },
        "2b5a31f3ed1e414d96a5fa6b357ea310": {
          "model_module": "@jupyter-widgets/controls",
          "model_name": "HBoxModel",
          "model_module_version": "1.5.0",
          "state": {
            "_view_name": "HBoxView",
            "_dom_classes": [],
            "_model_name": "HBoxModel",
            "_view_module": "@jupyter-widgets/controls",
            "_model_module_version": "1.5.0",
            "_view_count": null,
            "_view_module_version": "1.5.0",
            "box_style": "",
            "layout": "IPY_MODEL_e259a43a28784187a4f5dedeb69e9d78",
            "_model_module": "@jupyter-widgets/controls",
            "children": [
              "IPY_MODEL_78bc3126b93d465e8f4e50233902c6de",
              "IPY_MODEL_c8504d0e9901456887aa558a8eba4ae9",
              "IPY_MODEL_700edb80a3e742298d58e688d733f8ad"
            ]
          }
        },
        "e259a43a28784187a4f5dedeb69e9d78": {
          "model_module": "@jupyter-widgets/base",
          "model_name": "LayoutModel",
          "model_module_version": "1.2.0",
          "state": {
            "_view_name": "LayoutView",
            "grid_template_rows": null,
            "right": null,
            "justify_content": null,
            "_view_module": "@jupyter-widgets/base",
            "overflow": null,
            "_model_module_version": "1.2.0",
            "_view_count": null,
            "flex_flow": null,
            "width": null,
            "min_width": null,
            "border": null,
            "align_items": null,
            "bottom": null,
            "_model_module": "@jupyter-widgets/base",
            "top": null,
            "grid_column": null,
            "overflow_y": null,
            "overflow_x": null,
            "grid_auto_flow": null,
            "grid_area": null,
            "grid_template_columns": null,
            "flex": null,
            "_model_name": "LayoutModel",
            "justify_items": null,
            "grid_row": null,
            "max_height": null,
            "align_content": null,
            "visibility": null,
            "align_self": null,
            "height": null,
            "min_height": null,
            "padding": null,
            "grid_auto_rows": null,
            "grid_gap": null,
            "max_width": null,
            "order": null,
            "_view_module_version": "1.2.0",
            "grid_template_areas": null,
            "object_position": null,
            "object_fit": null,
            "grid_auto_columns": null,
            "margin": null,
            "display": null,
            "left": null
          }
        },
        "78bc3126b93d465e8f4e50233902c6de": {
          "model_module": "@jupyter-widgets/controls",
          "model_name": "HTMLModel",
          "model_module_version": "1.5.0",
          "state": {
            "_view_name": "HTMLView",
            "style": "IPY_MODEL_5988cb02fb29459a910ab07aca5e3731",
            "_dom_classes": [],
            "description": "",
            "_model_name": "HTMLModel",
            "placeholder": "​",
            "_view_module": "@jupyter-widgets/controls",
            "_model_module_version": "1.5.0",
            "value": "Downloading: 100%",
            "_view_count": null,
            "_view_module_version": "1.5.0",
            "description_tooltip": null,
            "_model_module": "@jupyter-widgets/controls",
            "layout": "IPY_MODEL_3267961c69af46729f3eceb26afce8e0"
          }
        },
        "c8504d0e9901456887aa558a8eba4ae9": {
          "model_module": "@jupyter-widgets/controls",
          "model_name": "FloatProgressModel",
          "model_module_version": "1.5.0",
          "state": {
            "_view_name": "ProgressView",
            "style": "IPY_MODEL_b6ea274190ed44018670a1a348d02d06",
            "_dom_classes": [],
            "description": "",
            "_model_name": "FloatProgressModel",
            "bar_style": "success",
            "max": 570,
            "_view_module": "@jupyter-widgets/controls",
            "_model_module_version": "1.5.0",
            "value": 570,
            "_view_count": null,
            "_view_module_version": "1.5.0",
            "orientation": "horizontal",
            "min": 0,
            "description_tooltip": null,
            "_model_module": "@jupyter-widgets/controls",
            "layout": "IPY_MODEL_6ecaf67bff7a4db4bb77224888645d5e"
          }
        },
        "700edb80a3e742298d58e688d733f8ad": {
          "model_module": "@jupyter-widgets/controls",
          "model_name": "HTMLModel",
          "model_module_version": "1.5.0",
          "state": {
            "_view_name": "HTMLView",
            "style": "IPY_MODEL_3819b7f739624655b01086138bf026d3",
            "_dom_classes": [],
            "description": "",
            "_model_name": "HTMLModel",
            "placeholder": "​",
            "_view_module": "@jupyter-widgets/controls",
            "_model_module_version": "1.5.0",
            "value": " 570/570 [00:00&lt;00:00, 13.5kB/s]",
            "_view_count": null,
            "_view_module_version": "1.5.0",
            "description_tooltip": null,
            "_model_module": "@jupyter-widgets/controls",
            "layout": "IPY_MODEL_04bb4775f22d4043bc3cf8fa9e17a349"
          }
        },
        "5988cb02fb29459a910ab07aca5e3731": {
          "model_module": "@jupyter-widgets/controls",
          "model_name": "DescriptionStyleModel",
          "model_module_version": "1.5.0",
          "state": {
            "_view_name": "StyleView",
            "_model_name": "DescriptionStyleModel",
            "description_width": "",
            "_view_module": "@jupyter-widgets/base",
            "_model_module_version": "1.5.0",
            "_view_count": null,
            "_view_module_version": "1.2.0",
            "_model_module": "@jupyter-widgets/controls"
          }
        },
        "3267961c69af46729f3eceb26afce8e0": {
          "model_module": "@jupyter-widgets/base",
          "model_name": "LayoutModel",
          "model_module_version": "1.2.0",
          "state": {
            "_view_name": "LayoutView",
            "grid_template_rows": null,
            "right": null,
            "justify_content": null,
            "_view_module": "@jupyter-widgets/base",
            "overflow": null,
            "_model_module_version": "1.2.0",
            "_view_count": null,
            "flex_flow": null,
            "width": null,
            "min_width": null,
            "border": null,
            "align_items": null,
            "bottom": null,
            "_model_module": "@jupyter-widgets/base",
            "top": null,
            "grid_column": null,
            "overflow_y": null,
            "overflow_x": null,
            "grid_auto_flow": null,
            "grid_area": null,
            "grid_template_columns": null,
            "flex": null,
            "_model_name": "LayoutModel",
            "justify_items": null,
            "grid_row": null,
            "max_height": null,
            "align_content": null,
            "visibility": null,
            "align_self": null,
            "height": null,
            "min_height": null,
            "padding": null,
            "grid_auto_rows": null,
            "grid_gap": null,
            "max_width": null,
            "order": null,
            "_view_module_version": "1.2.0",
            "grid_template_areas": null,
            "object_position": null,
            "object_fit": null,
            "grid_auto_columns": null,
            "margin": null,
            "display": null,
            "left": null
          }
        },
        "b6ea274190ed44018670a1a348d02d06": {
          "model_module": "@jupyter-widgets/controls",
          "model_name": "ProgressStyleModel",
          "model_module_version": "1.5.0",
          "state": {
            "_view_name": "StyleView",
            "_model_name": "ProgressStyleModel",
            "description_width": "",
            "_view_module": "@jupyter-widgets/base",
            "_model_module_version": "1.5.0",
            "_view_count": null,
            "_view_module_version": "1.2.0",
            "bar_color": null,
            "_model_module": "@jupyter-widgets/controls"
          }
        },
        "6ecaf67bff7a4db4bb77224888645d5e": {
          "model_module": "@jupyter-widgets/base",
          "model_name": "LayoutModel",
          "model_module_version": "1.2.0",
          "state": {
            "_view_name": "LayoutView",
            "grid_template_rows": null,
            "right": null,
            "justify_content": null,
            "_view_module": "@jupyter-widgets/base",
            "overflow": null,
            "_model_module_version": "1.2.0",
            "_view_count": null,
            "flex_flow": null,
            "width": null,
            "min_width": null,
            "border": null,
            "align_items": null,
            "bottom": null,
            "_model_module": "@jupyter-widgets/base",
            "top": null,
            "grid_column": null,
            "overflow_y": null,
            "overflow_x": null,
            "grid_auto_flow": null,
            "grid_area": null,
            "grid_template_columns": null,
            "flex": null,
            "_model_name": "LayoutModel",
            "justify_items": null,
            "grid_row": null,
            "max_height": null,
            "align_content": null,
            "visibility": null,
            "align_self": null,
            "height": null,
            "min_height": null,
            "padding": null,
            "grid_auto_rows": null,
            "grid_gap": null,
            "max_width": null,
            "order": null,
            "_view_module_version": "1.2.0",
            "grid_template_areas": null,
            "object_position": null,
            "object_fit": null,
            "grid_auto_columns": null,
            "margin": null,
            "display": null,
            "left": null
          }
        },
        "3819b7f739624655b01086138bf026d3": {
          "model_module": "@jupyter-widgets/controls",
          "model_name": "DescriptionStyleModel",
          "model_module_version": "1.5.0",
          "state": {
            "_view_name": "StyleView",
            "_model_name": "DescriptionStyleModel",
            "description_width": "",
            "_view_module": "@jupyter-widgets/base",
            "_model_module_version": "1.5.0",
            "_view_count": null,
            "_view_module_version": "1.2.0",
            "_model_module": "@jupyter-widgets/controls"
          }
        },
        "04bb4775f22d4043bc3cf8fa9e17a349": {
          "model_module": "@jupyter-widgets/base",
          "model_name": "LayoutModel",
          "model_module_version": "1.2.0",
          "state": {
            "_view_name": "LayoutView",
            "grid_template_rows": null,
            "right": null,
            "justify_content": null,
            "_view_module": "@jupyter-widgets/base",
            "overflow": null,
            "_model_module_version": "1.2.0",
            "_view_count": null,
            "flex_flow": null,
            "width": null,
            "min_width": null,
            "border": null,
            "align_items": null,
            "bottom": null,
            "_model_module": "@jupyter-widgets/base",
            "top": null,
            "grid_column": null,
            "overflow_y": null,
            "overflow_x": null,
            "grid_auto_flow": null,
            "grid_area": null,
            "grid_template_columns": null,
            "flex": null,
            "_model_name": "LayoutModel",
            "justify_items": null,
            "grid_row": null,
            "max_height": null,
            "align_content": null,
            "visibility": null,
            "align_self": null,
            "height": null,
            "min_height": null,
            "padding": null,
            "grid_auto_rows": null,
            "grid_gap": null,
            "max_width": null,
            "order": null,
            "_view_module_version": "1.2.0",
            "grid_template_areas": null,
            "object_position": null,
            "object_fit": null,
            "grid_auto_columns": null,
            "margin": null,
            "display": null,
            "left": null
          }
        },
        "ceab559eb1f74b15b33db01535fd6abd": {
          "model_module": "@jupyter-widgets/controls",
          "model_name": "HBoxModel",
          "model_module_version": "1.5.0",
          "state": {
            "_view_name": "HBoxView",
            "_dom_classes": [],
            "_model_name": "HBoxModel",
            "_view_module": "@jupyter-widgets/controls",
            "_model_module_version": "1.5.0",
            "_view_count": null,
            "_view_module_version": "1.5.0",
            "box_style": "",
            "layout": "IPY_MODEL_67ee75f9da074df2ba0bc0f288fbe65f",
            "_model_module": "@jupyter-widgets/controls",
            "children": [
              "IPY_MODEL_0a32cb18a7fc467d8a66836c5c2f8511",
              "IPY_MODEL_f41353702637448db1d1997718178e07"
            ]
          }
        },
        "67ee75f9da074df2ba0bc0f288fbe65f": {
          "model_module": "@jupyter-widgets/base",
          "model_name": "LayoutModel",
          "model_module_version": "1.2.0",
          "state": {
            "_view_name": "LayoutView",
            "grid_template_rows": null,
            "right": null,
            "justify_content": null,
            "_view_module": "@jupyter-widgets/base",
            "overflow": null,
            "_model_module_version": "1.2.0",
            "_view_count": null,
            "flex_flow": null,
            "width": null,
            "min_width": null,
            "border": null,
            "align_items": null,
            "bottom": null,
            "_model_module": "@jupyter-widgets/base",
            "top": null,
            "grid_column": null,
            "overflow_y": null,
            "overflow_x": null,
            "grid_auto_flow": null,
            "grid_area": null,
            "grid_template_columns": null,
            "flex": null,
            "_model_name": "LayoutModel",
            "justify_items": null,
            "grid_row": null,
            "max_height": null,
            "align_content": null,
            "visibility": null,
            "align_self": null,
            "height": null,
            "min_height": null,
            "padding": null,
            "grid_auto_rows": null,
            "grid_gap": null,
            "max_width": null,
            "order": null,
            "_view_module_version": "1.2.0",
            "grid_template_areas": null,
            "object_position": null,
            "object_fit": null,
            "grid_auto_columns": null,
            "margin": null,
            "display": null,
            "left": null
          }
        },
        "0a32cb18a7fc467d8a66836c5c2f8511": {
          "model_module": "@jupyter-widgets/controls",
          "model_name": "FloatProgressModel",
          "model_module_version": "1.5.0",
          "state": {
            "_view_name": "ProgressView",
            "style": "IPY_MODEL_68c040113a304301b1cc6bc73d13ebfa",
            "_dom_classes": [],
            "description": "Downloading: 100%",
            "_model_name": "FloatProgressModel",
            "bar_style": "success",
            "max": 413,
            "_view_module": "@jupyter-widgets/controls",
            "_model_module_version": "1.5.0",
            "value": 413,
            "_view_count": null,
            "_view_module_version": "1.5.0",
            "orientation": "horizontal",
            "min": 0,
            "description_tooltip": null,
            "_model_module": "@jupyter-widgets/controls",
            "layout": "IPY_MODEL_bb96b2b070a9482e8799da6fd726487c"
          }
        },
        "f41353702637448db1d1997718178e07": {
          "model_module": "@jupyter-widgets/controls",
          "model_name": "HTMLModel",
          "model_module_version": "1.5.0",
          "state": {
            "_view_name": "HTMLView",
            "style": "IPY_MODEL_e09a1277ba9b493eb1878f203984cfd1",
            "_dom_classes": [],
            "description": "",
            "_model_name": "HTMLModel",
            "placeholder": "​",
            "_view_module": "@jupyter-widgets/controls",
            "_model_module_version": "1.5.0",
            "value": " 413/413 [00:00&lt;00:00, 781B/s]",
            "_view_count": null,
            "_view_module_version": "1.5.0",
            "description_tooltip": null,
            "_model_module": "@jupyter-widgets/controls",
            "layout": "IPY_MODEL_ccd3d330b84f492db5377ad387e3ffae"
          }
        },
        "68c040113a304301b1cc6bc73d13ebfa": {
          "model_module": "@jupyter-widgets/controls",
          "model_name": "ProgressStyleModel",
          "model_module_version": "1.5.0",
          "state": {
            "_view_name": "StyleView",
            "_model_name": "ProgressStyleModel",
            "description_width": "initial",
            "_view_module": "@jupyter-widgets/base",
            "_model_module_version": "1.5.0",
            "_view_count": null,
            "_view_module_version": "1.2.0",
            "bar_color": null,
            "_model_module": "@jupyter-widgets/controls"
          }
        },
        "bb96b2b070a9482e8799da6fd726487c": {
          "model_module": "@jupyter-widgets/base",
          "model_name": "LayoutModel",
          "model_module_version": "1.2.0",
          "state": {
            "_view_name": "LayoutView",
            "grid_template_rows": null,
            "right": null,
            "justify_content": null,
            "_view_module": "@jupyter-widgets/base",
            "overflow": null,
            "_model_module_version": "1.2.0",
            "_view_count": null,
            "flex_flow": null,
            "width": null,
            "min_width": null,
            "border": null,
            "align_items": null,
            "bottom": null,
            "_model_module": "@jupyter-widgets/base",
            "top": null,
            "grid_column": null,
            "overflow_y": null,
            "overflow_x": null,
            "grid_auto_flow": null,
            "grid_area": null,
            "grid_template_columns": null,
            "flex": null,
            "_model_name": "LayoutModel",
            "justify_items": null,
            "grid_row": null,
            "max_height": null,
            "align_content": null,
            "visibility": null,
            "align_self": null,
            "height": null,
            "min_height": null,
            "padding": null,
            "grid_auto_rows": null,
            "grid_gap": null,
            "max_width": null,
            "order": null,
            "_view_module_version": "1.2.0",
            "grid_template_areas": null,
            "object_position": null,
            "object_fit": null,
            "grid_auto_columns": null,
            "margin": null,
            "display": null,
            "left": null
          }
        },
        "e09a1277ba9b493eb1878f203984cfd1": {
          "model_module": "@jupyter-widgets/controls",
          "model_name": "DescriptionStyleModel",
          "model_module_version": "1.5.0",
          "state": {
            "_view_name": "StyleView",
            "_model_name": "DescriptionStyleModel",
            "description_width": "",
            "_view_module": "@jupyter-widgets/base",
            "_model_module_version": "1.5.0",
            "_view_count": null,
            "_view_module_version": "1.2.0",
            "_model_module": "@jupyter-widgets/controls"
          }
        },
        "ccd3d330b84f492db5377ad387e3ffae": {
          "model_module": "@jupyter-widgets/base",
          "model_name": "LayoutModel",
          "model_module_version": "1.2.0",
          "state": {
            "_view_name": "LayoutView",
            "grid_template_rows": null,
            "right": null,
            "justify_content": null,
            "_view_module": "@jupyter-widgets/base",
            "overflow": null,
            "_model_module_version": "1.2.0",
            "_view_count": null,
            "flex_flow": null,
            "width": null,
            "min_width": null,
            "border": null,
            "align_items": null,
            "bottom": null,
            "_model_module": "@jupyter-widgets/base",
            "top": null,
            "grid_column": null,
            "overflow_y": null,
            "overflow_x": null,
            "grid_auto_flow": null,
            "grid_area": null,
            "grid_template_columns": null,
            "flex": null,
            "_model_name": "LayoutModel",
            "justify_items": null,
            "grid_row": null,
            "max_height": null,
            "align_content": null,
            "visibility": null,
            "align_self": null,
            "height": null,
            "min_height": null,
            "padding": null,
            "grid_auto_rows": null,
            "grid_gap": null,
            "max_width": null,
            "order": null,
            "_view_module_version": "1.2.0",
            "grid_template_areas": null,
            "object_position": null,
            "object_fit": null,
            "grid_auto_columns": null,
            "margin": null,
            "display": null,
            "left": null
          }
        },
        "f494dc03c5de446cb5e205264cc9ddfd": {
          "model_module": "@jupyter-widgets/controls",
          "model_name": "HBoxModel",
          "model_module_version": "1.5.0",
          "state": {
            "_view_name": "HBoxView",
            "_dom_classes": [],
            "_model_name": "HBoxModel",
            "_view_module": "@jupyter-widgets/controls",
            "_model_module_version": "1.5.0",
            "_view_count": null,
            "_view_module_version": "1.5.0",
            "box_style": "",
            "layout": "IPY_MODEL_9a46653bc667479b8a1ff73013177b7d",
            "_model_module": "@jupyter-widgets/controls",
            "children": [
              "IPY_MODEL_bd03b6154e6a4e049716e505d499cf6f",
              "IPY_MODEL_819aa88c7207460fa2bf3ffa4b9e904e"
            ]
          }
        },
        "9a46653bc667479b8a1ff73013177b7d": {
          "model_module": "@jupyter-widgets/base",
          "model_name": "LayoutModel",
          "model_module_version": "1.2.0",
          "state": {
            "_view_name": "LayoutView",
            "grid_template_rows": null,
            "right": null,
            "justify_content": null,
            "_view_module": "@jupyter-widgets/base",
            "overflow": null,
            "_model_module_version": "1.2.0",
            "_view_count": null,
            "flex_flow": null,
            "width": null,
            "min_width": null,
            "border": null,
            "align_items": null,
            "bottom": null,
            "_model_module": "@jupyter-widgets/base",
            "top": null,
            "grid_column": null,
            "overflow_y": null,
            "overflow_x": null,
            "grid_auto_flow": null,
            "grid_area": null,
            "grid_template_columns": null,
            "flex": null,
            "_model_name": "LayoutModel",
            "justify_items": null,
            "grid_row": null,
            "max_height": null,
            "align_content": null,
            "visibility": null,
            "align_self": null,
            "height": null,
            "min_height": null,
            "padding": null,
            "grid_auto_rows": null,
            "grid_gap": null,
            "max_width": null,
            "order": null,
            "_view_module_version": "1.2.0",
            "grid_template_areas": null,
            "object_position": null,
            "object_fit": null,
            "grid_auto_columns": null,
            "margin": null,
            "display": null,
            "left": null
          }
        },
        "bd03b6154e6a4e049716e505d499cf6f": {
          "model_module": "@jupyter-widgets/controls",
          "model_name": "FloatProgressModel",
          "model_module_version": "1.5.0",
          "state": {
            "_view_name": "ProgressView",
            "style": "IPY_MODEL_7451a0f160e74a32b8b958d9d372c0f6",
            "_dom_classes": [],
            "description": "Downloading: 100%",
            "_model_name": "FloatProgressModel",
            "bar_style": "success",
            "max": 215475882,
            "_view_module": "@jupyter-widgets/controls",
            "_model_module_version": "1.5.0",
            "value": 215475882,
            "_view_count": null,
            "_view_module_version": "1.5.0",
            "orientation": "horizontal",
            "min": 0,
            "description_tooltip": null,
            "_model_module": "@jupyter-widgets/controls",
            "layout": "IPY_MODEL_398401a3bb314a4c9fd254cbc1fca2c0"
          }
        },
        "819aa88c7207460fa2bf3ffa4b9e904e": {
          "model_module": "@jupyter-widgets/controls",
          "model_name": "HTMLModel",
          "model_module_version": "1.5.0",
          "state": {
            "_view_name": "HTMLView",
            "style": "IPY_MODEL_b93690fd965b4ec980930df14cf64a12",
            "_dom_classes": [],
            "description": "",
            "_model_name": "HTMLModel",
            "placeholder": "​",
            "_view_module": "@jupyter-widgets/controls",
            "_model_module_version": "1.5.0",
            "value": " 215M/215M [00:05&lt;00:00, 36.4MB/s]",
            "_view_count": null,
            "_view_module_version": "1.5.0",
            "description_tooltip": null,
            "_model_module": "@jupyter-widgets/controls",
            "layout": "IPY_MODEL_f3a784a8f65f44d7be191d10b8a9da98"
          }
        },
        "7451a0f160e74a32b8b958d9d372c0f6": {
          "model_module": "@jupyter-widgets/controls",
          "model_name": "ProgressStyleModel",
          "model_module_version": "1.5.0",
          "state": {
            "_view_name": "StyleView",
            "_model_name": "ProgressStyleModel",
            "description_width": "initial",
            "_view_module": "@jupyter-widgets/base",
            "_model_module_version": "1.5.0",
            "_view_count": null,
            "_view_module_version": "1.2.0",
            "bar_color": null,
            "_model_module": "@jupyter-widgets/controls"
          }
        },
        "398401a3bb314a4c9fd254cbc1fca2c0": {
          "model_module": "@jupyter-widgets/base",
          "model_name": "LayoutModel",
          "model_module_version": "1.2.0",
          "state": {
            "_view_name": "LayoutView",
            "grid_template_rows": null,
            "right": null,
            "justify_content": null,
            "_view_module": "@jupyter-widgets/base",
            "overflow": null,
            "_model_module_version": "1.2.0",
            "_view_count": null,
            "flex_flow": null,
            "width": null,
            "min_width": null,
            "border": null,
            "align_items": null,
            "bottom": null,
            "_model_module": "@jupyter-widgets/base",
            "top": null,
            "grid_column": null,
            "overflow_y": null,
            "overflow_x": null,
            "grid_auto_flow": null,
            "grid_area": null,
            "grid_template_columns": null,
            "flex": null,
            "_model_name": "LayoutModel",
            "justify_items": null,
            "grid_row": null,
            "max_height": null,
            "align_content": null,
            "visibility": null,
            "align_self": null,
            "height": null,
            "min_height": null,
            "padding": null,
            "grid_auto_rows": null,
            "grid_gap": null,
            "max_width": null,
            "order": null,
            "_view_module_version": "1.2.0",
            "grid_template_areas": null,
            "object_position": null,
            "object_fit": null,
            "grid_auto_columns": null,
            "margin": null,
            "display": null,
            "left": null
          }
        },
        "b93690fd965b4ec980930df14cf64a12": {
          "model_module": "@jupyter-widgets/controls",
          "model_name": "DescriptionStyleModel",
          "model_module_version": "1.5.0",
          "state": {
            "_view_name": "StyleView",
            "_model_name": "DescriptionStyleModel",
            "description_width": "",
            "_view_module": "@jupyter-widgets/base",
            "_model_module_version": "1.5.0",
            "_view_count": null,
            "_view_module_version": "1.2.0",
            "_model_module": "@jupyter-widgets/controls"
          }
        },
        "f3a784a8f65f44d7be191d10b8a9da98": {
          "model_module": "@jupyter-widgets/base",
          "model_name": "LayoutModel",
          "model_module_version": "1.2.0",
          "state": {
            "_view_name": "LayoutView",
            "grid_template_rows": null,
            "right": null,
            "justify_content": null,
            "_view_module": "@jupyter-widgets/base",
            "overflow": null,
            "_model_module_version": "1.2.0",
            "_view_count": null,
            "flex_flow": null,
            "width": null,
            "min_width": null,
            "border": null,
            "align_items": null,
            "bottom": null,
            "_model_module": "@jupyter-widgets/base",
            "top": null,
            "grid_column": null,
            "overflow_y": null,
            "overflow_x": null,
            "grid_auto_flow": null,
            "grid_area": null,
            "grid_template_columns": null,
            "flex": null,
            "_model_name": "LayoutModel",
            "justify_items": null,
            "grid_row": null,
            "max_height": null,
            "align_content": null,
            "visibility": null,
            "align_self": null,
            "height": null,
            "min_height": null,
            "padding": null,
            "grid_auto_rows": null,
            "grid_gap": null,
            "max_width": null,
            "order": null,
            "_view_module_version": "1.2.0",
            "grid_template_areas": null,
            "object_position": null,
            "object_fit": null,
            "grid_auto_columns": null,
            "margin": null,
            "display": null,
            "left": null
          }
        },
        "2532aaeedf7b41798b6b0baeae949599": {
          "model_module": "@jupyter-widgets/controls",
          "model_name": "HBoxModel",
          "model_module_version": "1.5.0",
          "state": {
            "_view_name": "HBoxView",
            "_dom_classes": [],
            "_model_name": "HBoxModel",
            "_view_module": "@jupyter-widgets/controls",
            "_model_module_version": "1.5.0",
            "_view_count": null,
            "_view_module_version": "1.5.0",
            "box_style": "",
            "layout": "IPY_MODEL_c74b8a11845b4601a3d2a66a9f9bc33f",
            "_model_module": "@jupyter-widgets/controls",
            "children": [
              "IPY_MODEL_2fe98f708fe74767897d94273b1f4e21",
              "IPY_MODEL_43b379453d9c435aa4361b1346ef02c1"
            ]
          }
        },
        "c74b8a11845b4601a3d2a66a9f9bc33f": {
          "model_module": "@jupyter-widgets/base",
          "model_name": "LayoutModel",
          "model_module_version": "1.2.0",
          "state": {
            "_view_name": "LayoutView",
            "grid_template_rows": null,
            "right": null,
            "justify_content": null,
            "_view_module": "@jupyter-widgets/base",
            "overflow": null,
            "_model_module_version": "1.2.0",
            "_view_count": null,
            "flex_flow": null,
            "width": null,
            "min_width": null,
            "border": null,
            "align_items": null,
            "bottom": null,
            "_model_module": "@jupyter-widgets/base",
            "top": null,
            "grid_column": null,
            "overflow_y": null,
            "overflow_x": null,
            "grid_auto_flow": null,
            "grid_area": null,
            "grid_template_columns": null,
            "flex": null,
            "_model_name": "LayoutModel",
            "justify_items": null,
            "grid_row": null,
            "max_height": null,
            "align_content": null,
            "visibility": null,
            "align_self": null,
            "height": null,
            "min_height": null,
            "padding": null,
            "grid_auto_rows": null,
            "grid_gap": null,
            "max_width": null,
            "order": null,
            "_view_module_version": "1.2.0",
            "grid_template_areas": null,
            "object_position": null,
            "object_fit": null,
            "grid_auto_columns": null,
            "margin": null,
            "display": null,
            "left": null
          }
        },
        "2fe98f708fe74767897d94273b1f4e21": {
          "model_module": "@jupyter-widgets/controls",
          "model_name": "FloatProgressModel",
          "model_module_version": "1.5.0",
          "state": {
            "_view_name": "ProgressView",
            "style": "IPY_MODEL_82f291b0a1994312b6dd9e4053f9e2df",
            "_dom_classes": [],
            "description": "Downloading: 100%",
            "_model_name": "FloatProgressModel",
            "bar_style": "success",
            "max": 213450,
            "_view_module": "@jupyter-widgets/controls",
            "_model_module_version": "1.5.0",
            "value": 213450,
            "_view_count": null,
            "_view_module_version": "1.5.0",
            "orientation": "horizontal",
            "min": 0,
            "description_tooltip": null,
            "_model_module": "@jupyter-widgets/controls",
            "layout": "IPY_MODEL_79fa9c41f7a048509ad44fe6824baf9c"
          }
        },
        "43b379453d9c435aa4361b1346ef02c1": {
          "model_module": "@jupyter-widgets/controls",
          "model_name": "HTMLModel",
          "model_module_version": "1.5.0",
          "state": {
            "_view_name": "HTMLView",
            "style": "IPY_MODEL_a9c51f7f625f4a7595cf600aeb270698",
            "_dom_classes": [],
            "description": "",
            "_model_name": "HTMLModel",
            "placeholder": "​",
            "_view_module": "@jupyter-widgets/controls",
            "_model_module_version": "1.5.0",
            "value": " 213k/213k [00:00&lt;00:00, 446kB/s]",
            "_view_count": null,
            "_view_module_version": "1.5.0",
            "description_tooltip": null,
            "_model_module": "@jupyter-widgets/controls",
            "layout": "IPY_MODEL_dd2d4b6947f54f75ac68ad410527973a"
          }
        },
        "82f291b0a1994312b6dd9e4053f9e2df": {
          "model_module": "@jupyter-widgets/controls",
          "model_name": "ProgressStyleModel",
          "model_module_version": "1.5.0",
          "state": {
            "_view_name": "StyleView",
            "_model_name": "ProgressStyleModel",
            "description_width": "initial",
            "_view_module": "@jupyter-widgets/base",
            "_model_module_version": "1.5.0",
            "_view_count": null,
            "_view_module_version": "1.2.0",
            "bar_color": null,
            "_model_module": "@jupyter-widgets/controls"
          }
        },
        "79fa9c41f7a048509ad44fe6824baf9c": {
          "model_module": "@jupyter-widgets/base",
          "model_name": "LayoutModel",
          "model_module_version": "1.2.0",
          "state": {
            "_view_name": "LayoutView",
            "grid_template_rows": null,
            "right": null,
            "justify_content": null,
            "_view_module": "@jupyter-widgets/base",
            "overflow": null,
            "_model_module_version": "1.2.0",
            "_view_count": null,
            "flex_flow": null,
            "width": null,
            "min_width": null,
            "border": null,
            "align_items": null,
            "bottom": null,
            "_model_module": "@jupyter-widgets/base",
            "top": null,
            "grid_column": null,
            "overflow_y": null,
            "overflow_x": null,
            "grid_auto_flow": null,
            "grid_area": null,
            "grid_template_columns": null,
            "flex": null,
            "_model_name": "LayoutModel",
            "justify_items": null,
            "grid_row": null,
            "max_height": null,
            "align_content": null,
            "visibility": null,
            "align_self": null,
            "height": null,
            "min_height": null,
            "padding": null,
            "grid_auto_rows": null,
            "grid_gap": null,
            "max_width": null,
            "order": null,
            "_view_module_version": "1.2.0",
            "grid_template_areas": null,
            "object_position": null,
            "object_fit": null,
            "grid_auto_columns": null,
            "margin": null,
            "display": null,
            "left": null
          }
        },
        "a9c51f7f625f4a7595cf600aeb270698": {
          "model_module": "@jupyter-widgets/controls",
          "model_name": "DescriptionStyleModel",
          "model_module_version": "1.5.0",
          "state": {
            "_view_name": "StyleView",
            "_model_name": "DescriptionStyleModel",
            "description_width": "",
            "_view_module": "@jupyter-widgets/base",
            "_model_module_version": "1.5.0",
            "_view_count": null,
            "_view_module_version": "1.2.0",
            "_model_module": "@jupyter-widgets/controls"
          }
        },
        "dd2d4b6947f54f75ac68ad410527973a": {
          "model_module": "@jupyter-widgets/base",
          "model_name": "LayoutModel",
          "model_module_version": "1.2.0",
          "state": {
            "_view_name": "LayoutView",
            "grid_template_rows": null,
            "right": null,
            "justify_content": null,
            "_view_module": "@jupyter-widgets/base",
            "overflow": null,
            "_model_module_version": "1.2.0",
            "_view_count": null,
            "flex_flow": null,
            "width": null,
            "min_width": null,
            "border": null,
            "align_items": null,
            "bottom": null,
            "_model_module": "@jupyter-widgets/base",
            "top": null,
            "grid_column": null,
            "overflow_y": null,
            "overflow_x": null,
            "grid_auto_flow": null,
            "grid_area": null,
            "grid_template_columns": null,
            "flex": null,
            "_model_name": "LayoutModel",
            "justify_items": null,
            "grid_row": null,
            "max_height": null,
            "align_content": null,
            "visibility": null,
            "align_self": null,
            "height": null,
            "min_height": null,
            "padding": null,
            "grid_auto_rows": null,
            "grid_gap": null,
            "max_width": null,
            "order": null,
            "_view_module_version": "1.2.0",
            "grid_template_areas": null,
            "object_position": null,
            "object_fit": null,
            "grid_auto_columns": null,
            "margin": null,
            "display": null,
            "left": null
          }
        }
      }
    }
  },
  "cells": [
    {
      "cell_type": "markdown",
      "metadata": {
        "id": "JMO6VuH_OIsf"
      },
      "source": [
        "#IEEE Coreference Resolution Task\n",
        "##SetSimilaritySearch + Bert-base embedding semantic similarity"
      ]
    },
    {
      "cell_type": "markdown",
      "metadata": {
        "id": "mSqwGIh_I0be"
      },
      "source": [
        "##Mount Google Drive"
      ]
    },
    {
      "cell_type": "code",
      "metadata": {
        "id": "FTUauktnQ8dS",
        "colab": {
          "base_uri": "https://localhost:8080/"
        },
        "outputId": "a8eac108-748e-45cc-94a2-ac25a1fd4d7e"
      },
      "source": [
        "# Mount Google Drive\n",
        "from google.colab import drive\n",
        "drive.mount('/content/drive/')"
      ],
      "execution_count": null,
      "outputs": [
        {
          "output_type": "stream",
          "text": [
            "Mounted at /content/drive/\n"
          ],
          "name": "stdout"
        }
      ]
    },
    {
      "cell_type": "markdown",
      "metadata": {
        "id": "_-llwuEQJBCx"
      },
      "source": [
        "##Get Entities from NER task"
      ]
    },
    {
      "cell_type": "code",
      "metadata": {
        "id": "TLW-_p0jhWxv"
      },
      "source": [
        "import numpy as np\n",
        "import json\n",
        "import pandas as pd"
      ],
      "execution_count": null,
      "outputs": []
    },
    {
      "cell_type": "code",
      "metadata": {
        "id": "MFtT6xx1IfZT"
      },
      "source": [
        "def get_json_list(multiclass_file, software = 'doccano'):\n",
        "    with open(multiclass_file, 'r') as json_file:\n",
        "        json_list = list(json_file)\n",
        "\n",
        "    annotations_json = []\n",
        "    for line in json_list:\n",
        "        annotations_json.append(json.loads(line))\n",
        "\n",
        "    if software == 'prodigy':\n",
        "        annotations_json = prodigy_to_doccano(annotations_json)\n",
        "\n",
        "    return annotations_json"
      ],
      "execution_count": null,
      "outputs": []
    },
    {
      "cell_type": "code",
      "metadata": {
        "id": "E1wS2gT8RqrW"
      },
      "source": [
        "def multiclass_to_multilabel(abstract):\n",
        "    one_hot = [0] * 4\n",
        "    for annotation in abstract['annotations']:\n",
        "        original_label = annotation['label'] \n",
        "        one_hot_copy = one_hot.copy()\n",
        "        one_hot_copy[original_label] = 1\n",
        "        annotation['label_one_hot'] = one_hot_copy\n",
        "\n",
        "    return abstract"
      ],
      "execution_count": null,
      "outputs": []
    },
    {
      "cell_type": "code",
      "metadata": {
        "id": "uXEaFDa7Ih2N"
      },
      "source": [
        "multiclass_file = '/content/drive/MyDrive/ieee_ner_coref/assets/data/annotations/yx_converted_abs_combine_114.jsonl' # Input from Doccano/Prodigy"
      ],
      "execution_count": null,
      "outputs": []
    },
    {
      "cell_type": "code",
      "metadata": {
        "id": "8YsX_PMUIlno"
      },
      "source": [
        "# Set software to 'doccano' or 'prodigy'\n",
        "annotations_json = get_json_list(multiclass_file, software = 'doccano')"
      ],
      "execution_count": null,
      "outputs": []
    },
    {
      "cell_type": "code",
      "metadata": {
        "id": "CNYX4LeWIniH"
      },
      "source": [
        "for abstract in annotations_json:\n",
        "    abstract = multiclass_to_multilabel(abstract)\n",
        "    abstract['id'] = abstract['meta']['paperid']\n",
        "    abstract['text'] = abstract['text'].strip('®')"
      ],
      "execution_count": null,
      "outputs": []
    },
    {
      "cell_type": "markdown",
      "metadata": {
        "id": "txRGMHO6cb_T"
      },
      "source": [
        "##Define related classes"
      ]
    },
    {
      "cell_type": "code",
      "metadata": {
        "id": "EMBTLUxicbpB"
      },
      "source": [
        "from enum import Enum\n",
        "class EntityClass(Enum):\n",
        "    '''Represents the class of an entity, e.g. \"Method\"'''\n",
        "    NONE = 0\n",
        "    ORG = 1\n",
        "    METHOD = 2\n",
        "    PRODUCT = 3\n",
        "\n",
        "class Entity:\n",
        "    '''An entity that has been identified as part of a document\n",
        "\n",
        "    Attributes:\n",
        "        parent_doc_id: an identifier for the document this entity exists within\n",
        "        start: offset of the first character of this entity\n",
        "          in the parent doc\n",
        "        text: text from the parent document with this entity\n",
        "        klass: class of this entity, e.g. \"Method\"\n",
        "    '''\n",
        "    def __init__(self,id,start,text,klass):\n",
        "      parent_doc_id: int\n",
        "      start: int\n",
        "      text: str\n",
        "      klass: EntityClass\n",
        "      self.parent_doc_id = id\n",
        "      self.start = start\n",
        "      self.text = text\n",
        "      self.klass = klass\n",
        "\n",
        "    def __str__(self):\n",
        "        return self.text\n",
        "\n",
        "    @property\n",
        "    def end(self):\n",
        "        '''Offset of the last character of this entity in the parent doc'''\n",
        "        return self.start + len(self.text)\n",
        "\n",
        "    @property\n",
        "    def location(self):\n",
        "        return (self.start, self.end)"
      ],
      "execution_count": null,
      "outputs": []
    },
    {
      "cell_type": "markdown",
      "metadata": {
        "id": "w9_yQJMseenB"
      },
      "source": [
        "##Construct dataframe"
      ]
    },
    {
      "cell_type": "code",
      "metadata": {
        "colab": {
          "base_uri": "https://localhost:8080/"
        },
        "id": "xrqsivcz6S1e",
        "outputId": "cfd8cf1e-b585-408a-cef0-c09792de0dc6"
      },
      "source": [
        "#The context of entities\n",
        "for abstract in annotations_json:\n",
        "  for annotation in abstract['annotations']:\n",
        "     if sum(np.asarray(annotation['label_one_hot'])) > 0:\n",
        "      text = abstract['text']\n",
        "      start = annotation['start_offset']\n",
        "      end = annotation['end_offset']\n",
        "      print(text[start:end])"
      ],
      "execution_count": null,
      "outputs": [
        {
          "output_type": "stream",
          "text": [
            "simultaneous backward geocoding\n",
            "airborne InSAR\n",
            "multi-aspect SAR\n",
            "Voting Logic Fusion\n",
            "coarse to fine\n",
            "Haar-like\n",
            "HOG\n",
            "CAVIAR\n",
            "full-body detection (FBD)\n",
            "head-shoulder detection (HSD)\n",
            "FBD\n",
            "HSD\n",
            "MIT, INRIA\n",
            "bsp-tree\n",
            "bsp-tree\n",
            "BP neural network\n",
            "BP neural network\n",
            "BP neural networks\n",
            "hold-out\n",
            "10-fold cross validation\n",
            "SIFT\n",
            "surveillance context (scale invariant image transform (SIFT) keypoints\n",
            " geometric primitive features\n",
            "Latent Semantic Indexing\n",
            "Expectation Maximization\n",
            "Normalized Score (ENS)\n",
            "latent semantic indexing\n",
            "hyperspectral band grouping\n",
            "hyperspectral analysis\n",
            "spatial adaptivity\n",
            "bilateral filtering\n",
            "SIFT (scale invariant feature transform)\n",
            "SIFT\n",
            "SIFT\n",
            "K-means\n",
            "K-means\n",
            "K-means\n",
            "K-means\n",
            "phase correlation\n",
            "Bayesian learning\n",
            "sparse Bayesian learning (SBL)\n",
            "SBL\n",
            "Bayesian-MCMC\n",
            "Bayesian theorem\n",
            "reversible jump MCMC\n",
            "full orthostereoscopic image capture and projection\n",
            "conceptual graph formalism (CGF)\n",
            "OpenNLP\n",
            "CGF\n",
            "conceptual graph (CG)\n",
            "CGs\n",
            "CG\n",
            "CG\n",
            "CG\n",
            "VerbNet\n",
            "WordNet\n",
            "Signal Detection Theory\n",
            "Sensor fusion\n",
            "Transferable Belief Model\n",
            "Principal component analysis (PCA)\n",
            "Sparse PCA\n",
            "sparse PCA\n",
            "sparse loading PCA (slPCA)\n",
            "PCA\n",
            "svPCA\n",
            "svPCA\n",
            "PCA\n",
            "slPCA\n",
            "svPCA\n",
            "penalized expectation-maximization (pEM)\n",
            "tactile information processing\n",
            "tactile sensory suppression\n",
            "Light field rendering\n",
            "light field rendering\n",
            "PSNR\n",
            "low-level features vector quantization\n",
            "multiple coil MRI(Magnetic Resonance Imaging) \n",
            "non-stationary noise estimation\n",
            "multi-coil MRI\n",
            "coherent subspace methods\n",
            "dynamic time warping\n",
            "bigram models\n",
            "NIST\n",
            "shape-from-shading\n",
            "shape-from-shading\n",
            "Attribute-based Decision Graph\n",
            "AbDG\n",
            "AbDG\n",
            "AbDG\n",
            "AbDG\n",
            "C4.5\n",
            "Multi-Interval ID3\n",
            "analytic hierarchy process (AHP)\n",
            "AHP\n",
            "Predictive Diagnostic Optimisation\n",
            "Diagnostic Optimisation\n",
            "Localist Attractor Network\n",
            "Temporal Decision Tree\n",
            "Naive Bayes Classifier\n",
            "hierarchical-like particle filter\n",
            "Lazy learning\n",
            "memory learning strategy\n",
            "lazy learning\n",
            "Henon map\n",
            "socially assistive robotics (SAR)\n",
            "parametric masking\n",
            "stimulus onset asynchrony (SOA)\n",
            "SOA\n",
            "SOA\n",
            "SOA\n",
            "monaural separation\n",
            "fixed dimension modified sinusoidal model (FDMSM)\n",
            "Support Vector Machine (SVM)\n",
            "Relevance Vector Machine (RVM)\n",
            "k Nearest Neighbor (k-NN)\n",
            "Multi-Layer Perceptron (MLP)\n",
            "imaging three-dimensional ladar (I3DL)\n",
            "I3DL\n",
            "modulation transfer function (MTF)\n",
            "line spread function (LSF)\n",
            "I3DL\n",
            "MTF\n",
            "MTF\n",
            "pixels binning\n",
            "gaussian mixtures\n",
            "expectation maximization\n",
            "locally weighted regression (LWR)\n",
            "fuzzy cerebellar model articulation controller (FCMAC)\n",
            "LWR\n",
            "fuzzy CMAC\n",
            "fragile watermarking\n",
            "semi-fragile watermark\n",
            "fragile watermarking\n",
            "Human Visual System (HVS)\n",
            "PKI (Public Key Infrastructure) based semi-fragile watermarking\n",
            "DCT\n",
            "watermark embedding\n",
            "stereo rectification\n",
            "stereo rectification\n",
            "image of the absolute conic (IAC)\n",
            "eye filter\n",
            "AdaBoost\n",
            "eye filter\n",
            "CAS-PEAL\n",
            "JAFFE\n",
            "BodiPod\n",
            "stereoscopic rendering\n",
            "Modified Newton-Raphson\n",
            "EMT\n",
            "LBP\n",
            "Xbox 360\n",
            "classifier integration model(CIM)\n",
            "CIM\n",
            "CIM\n",
            "CIM\n",
            "Kalman filter\n",
            "linear minimum variance recursive one-shot procedure\n",
            "contour person\n",
            "contour person (CP)\n",
            "CP\n",
            "3D SCAPE\n",
            "2D pose estimation\n",
            "pictorial-structures\n",
            "1-inch UniTouch\n",
            "convolutional neural network (CNN)\n",
            "FG-NET\n",
            "Principal Component Analysis (PCA)\n",
            "Non-negative Matrix Factorization (NMF)\n",
            "PCA\n",
            "NMF\n",
            "PCA\n",
            "NMF\n",
            "PCA\n",
            "NMF\n",
            "PCA\n",
            "NMF\n",
            "Receiver Operator Characteristic curves\n",
            "SIFT-based face recognition\n",
            "SIFT\n",
            "SIFT\n",
            "Extended Yale face database B\n",
            "Scale Invariant Feature Transform (or SIFT)\n",
            "SIFT-based\n",
            "Displaced Phase Center Antenna (DPCA)\n",
            "Redundant Phase Center (RPC)\n",
            "automated microassembly\n",
            "Vision-based microassembly\n",
            "artificial potential field\n",
            "Road segment Partitioning\n",
            "(RPat)\n",
            "double Markov random field\n",
            "human-machine-environment cyber-physical system (HME-CPS)\n",
            "C++\n",
            "Prolog\n",
            "C++\n",
            "Prolog\n",
            "C++\n",
            "Prolog\n",
            "HME-CPS\n",
            "human-machine collaboration (HMC)\n",
            "HME-CPS\n",
            "two layer hierarchical classification\n",
            "coarse-to-fine optical flow\n",
            "First Register Then Average And Subtract (FRTAAS)\n",
            "non-local means\n",
            "power spectral density estimation\n",
            "dyadic wavelet\n",
            "complex wavelet\n",
            "multi-band wavelet\n",
            "Conditional Colored Petri Nets\n",
            "least-squares\n",
            "Sugeno integral\n",
            "Sugeno integral\n",
            "Sugeno integral\n",
            "FERET\n",
            "Sugeno integral\n",
            "Sugeno Measures\n",
            "interval type-2 Sugeno integral\n",
            "type-1 Sugeno integral\n",
            "type-1 Sugeno integral\n",
            "interval type-2 Sugeno integral\n",
            "interval type-2 fuzzy logic\n",
            "modular neural network\n",
            "Non-hierarchical k-means\n",
            "hierarchical clustering\n",
            "hierarchical clustering\n",
            "Anchor model\n",
            "anchor models\n",
            "anchor model\n",
            "YOHO\n",
            "EER\n",
            "man-machine cooperative intelligent reduction\n",
            "IRAEK\n",
            "Micro-electromechanical Systems (MEMS)\n",
            "IRAEK\n",
            "Intelligent Reduction Algorithm based on Expert Knowledge\n",
            "acoustic finger prints\n",
            "super-resolution mapping analyses\n",
            "soft image classification\n",
            "Hopfield neural network\n",
            "Hopfield neural network\n",
            "Hopfield neural network\n",
            "Hopfield neural network\n",
            "super-resolution mapping\n",
            "incremental induction of decision trees\n",
            "online incremental induction of decision trees\n",
            "collaborative filtering (CF)\n",
            "CF\n",
            "minimax optimization\n",
            "region-based flocking\n",
            "Particle swarm optimization\n",
            "Naive Bayes\n",
            "Naive Bayes\n",
            "FPGA-based Naive Bayes\n",
            "network traffic classification\n",
            "network traffic classification\n",
            "Naive Bayes\n",
            "color stereo matching\n",
            "Middlebury1\n",
            "TNO MARS/Prescan2\n",
            "invariant extended Kalman filter (IEKF)\n",
            "EKF-SLAM\n",
            "IEKFs\n",
            "stochastic cloning\n",
            "MR spectroscopy\n",
            "decision trees\n",
            "decision tree\n",
            "decision tree\n",
            "scale-space filtered coordinate functions\n",
            "Hotelling transform\n",
            "even symmetric Gabor filters\n",
            "fuzzy inference\n",
            "RBF network\n",
            "radial basis function (RBF) network\n",
            "RBF network\n",
            "RBF network\n",
            "Predictive Annotation\n",
            "Predictive Annotation\n",
            "Gestalt laws\n",
            "recurrent network\n",
            "contextual vector quantization (CVQ)\n",
            "edge-preserving filter\n",
            "genetic programming\n",
            "fully (self-) connected neural network\n",
            "Genetically programmed neural net (GenNet)\n",
            "GenNets\n",
            "GenNets\n",
            "GenNets\n",
            "genetic programming\n",
            "GenNet\n",
            "genetic programming\n",
            "Darwin machines\n",
            "block feature motion estimation\n",
            "mixed-mode multiresolution motion estimation\n",
            "sign truncated feature (STF)\n",
            "block matching\n",
            "STF\n",
            "block matching\n",
            "mean matching\n",
            "binary phase matching\n",
            "binary phase matching\n",
            "full-search block matching\n",
            "full-search block matching\n",
            "cross-correlation\n",
            "phase-correlation\n",
            "phase-correlation\n",
            "cross-correlation\n",
            "knowledge-based document-analysis\n",
            "ANASTASIL\n",
            "best-first search\n",
            "reinforcement learning\n",
            "reinforcement learning\n",
            "region-based image coding\n",
            "lossless encoding\n",
            "fully connected recurrent network\n",
            "SD-Scicon UK Ltd\n",
            "Kalman filter\n",
            "example-based approach\n"
          ],
          "name": "stdout"
        }
      ]
    },
    {
      "cell_type": "code",
      "metadata": {
        "id": "FmmQOKE4fmpT"
      },
      "source": [
        "entities = []"
      ],
      "execution_count": null,
      "outputs": []
    },
    {
      "cell_type": "code",
      "metadata": {
        "id": "324ujoSEIzwr"
      },
      "source": [
        "for abstract in annotations_json:\n",
        "  for annotation in abstract['annotations']:\n",
        "     if sum(np.asarray(annotation['label_one_hot'])) > 0:\n",
        "      text = abstract['text']\n",
        "      start = annotation['start_offset']\n",
        "      end = annotation['end_offset']\n",
        "      id = abstract['id']\n",
        "      label = annotation['label']\n",
        "      if label == 1:\n",
        "        item = Entity(id,start,text[start:end],EntityClass.ORG)\n",
        "      if label == 2:\n",
        "        item = Entity(id,start,text[start:end],EntityClass.METHOD)\n",
        "      if label == 3: \n",
        "        item = Entity(id,start,text[start:end],EntityClass.PRODUCT)\n",
        "      print(item)\n",
        "      entities.append(item)"
      ],
      "execution_count": null,
      "outputs": []
    },
    {
      "cell_type": "code",
      "metadata": {
        "id": "JmIPfAS6mNCx"
      },
      "source": [
        "np.save(\"/content/entities.npy\", entities)"
      ],
      "execution_count": null,
      "outputs": []
    },
    {
      "cell_type": "markdown",
      "metadata": {
        "id": "Knz0WkgQvtWB"
      },
      "source": [
        "##SetSimilaritySearch Clustering"
      ]
    },
    {
      "cell_type": "code",
      "metadata": {
        "colab": {
          "base_uri": "https://localhost:8080/"
        },
        "id": "1WM0fs0bCcRy",
        "outputId": "b93c97ce-834b-4078-dfa3-1c490cacfcf8"
      },
      "source": [
        "!pip install transformers"
      ],
      "execution_count": null,
      "outputs": [
        {
          "output_type": "stream",
          "text": [
            "Collecting transformers\n",
            "  Downloading transformers-4.9.2-py3-none-any.whl (2.6 MB)\n",
            "\u001b[K     |████████████████████████████████| 2.6 MB 4.1 MB/s \n",
            "\u001b[?25hRequirement already satisfied: importlib-metadata in /usr/local/lib/python3.7/dist-packages (from transformers) (4.6.3)\n",
            "Collecting pyyaml>=5.1\n",
            "  Downloading PyYAML-5.4.1-cp37-cp37m-manylinux1_x86_64.whl (636 kB)\n",
            "\u001b[K     |████████████████████████████████| 636 kB 54.6 MB/s \n",
            "\u001b[?25hCollecting huggingface-hub==0.0.12\n",
            "  Downloading huggingface_hub-0.0.12-py3-none-any.whl (37 kB)\n",
            "Collecting sacremoses\n",
            "  Downloading sacremoses-0.0.45-py3-none-any.whl (895 kB)\n",
            "\u001b[K     |████████████████████████████████| 895 kB 58.2 MB/s \n",
            "\u001b[?25hRequirement already satisfied: filelock in /usr/local/lib/python3.7/dist-packages (from transformers) (3.0.12)\n",
            "Requirement already satisfied: tqdm>=4.27 in /usr/local/lib/python3.7/dist-packages (from transformers) (4.62.0)\n",
            "Requirement already satisfied: regex!=2019.12.17 in /usr/local/lib/python3.7/dist-packages (from transformers) (2019.12.20)\n",
            "Collecting tokenizers<0.11,>=0.10.1\n",
            "  Downloading tokenizers-0.10.3-cp37-cp37m-manylinux_2_5_x86_64.manylinux1_x86_64.manylinux_2_12_x86_64.manylinux2010_x86_64.whl (3.3 MB)\n",
            "\u001b[K     |████████████████████████████████| 3.3 MB 19.2 MB/s \n",
            "\u001b[?25hRequirement already satisfied: packaging in /usr/local/lib/python3.7/dist-packages (from transformers) (21.0)\n",
            "Requirement already satisfied: numpy>=1.17 in /usr/local/lib/python3.7/dist-packages (from transformers) (1.19.5)\n",
            "Requirement already satisfied: requests in /usr/local/lib/python3.7/dist-packages (from transformers) (2.23.0)\n",
            "Requirement already satisfied: typing-extensions in /usr/local/lib/python3.7/dist-packages (from huggingface-hub==0.0.12->transformers) (3.7.4.3)\n",
            "Requirement already satisfied: pyparsing>=2.0.2 in /usr/local/lib/python3.7/dist-packages (from packaging->transformers) (2.4.7)\n",
            "Requirement already satisfied: zipp>=0.5 in /usr/local/lib/python3.7/dist-packages (from importlib-metadata->transformers) (3.5.0)\n",
            "Requirement already satisfied: idna<3,>=2.5 in /usr/local/lib/python3.7/dist-packages (from requests->transformers) (2.10)\n",
            "Requirement already satisfied: chardet<4,>=3.0.2 in /usr/local/lib/python3.7/dist-packages (from requests->transformers) (3.0.4)\n",
            "Requirement already satisfied: urllib3!=1.25.0,!=1.25.1,<1.26,>=1.21.1 in /usr/local/lib/python3.7/dist-packages (from requests->transformers) (1.24.3)\n",
            "Requirement already satisfied: certifi>=2017.4.17 in /usr/local/lib/python3.7/dist-packages (from requests->transformers) (2021.5.30)\n",
            "Requirement already satisfied: joblib in /usr/local/lib/python3.7/dist-packages (from sacremoses->transformers) (1.0.1)\n",
            "Requirement already satisfied: six in /usr/local/lib/python3.7/dist-packages (from sacremoses->transformers) (1.15.0)\n",
            "Requirement already satisfied: click in /usr/local/lib/python3.7/dist-packages (from sacremoses->transformers) (7.1.2)\n",
            "Installing collected packages: tokenizers, sacremoses, pyyaml, huggingface-hub, transformers\n",
            "  Attempting uninstall: pyyaml\n",
            "    Found existing installation: PyYAML 3.13\n",
            "    Uninstalling PyYAML-3.13:\n",
            "      Successfully uninstalled PyYAML-3.13\n",
            "Successfully installed huggingface-hub-0.0.12 pyyaml-5.4.1 sacremoses-0.0.45 tokenizers-0.10.3 transformers-4.9.2\n"
          ],
          "name": "stdout"
        }
      ]
    },
    {
      "cell_type": "code",
      "metadata": {
        "id": "yFFQnfDookSb"
      },
      "source": [
        "from transformers import (\n",
        "    BertTokenizer, BertTokenizerFast, BatchEncoding,\n",
        "    DataCollatorForTokenClassification, BertForTokenClassification,\n",
        "    Trainer, TrainingArguments\n",
        ")"
      ],
      "execution_count": null,
      "outputs": []
    },
    {
      "cell_type": "code",
      "metadata": {
        "id": "UyR8U5uDrnub"
      },
      "source": [
        "###NER model \n",
        "class BertForTokenClassificationML(BertForTokenClassification):\n",
        "    def set_label_weights(self, weights):\n",
        "        self.label_weights = weights\n",
        "\n",
        "    def forward(\n",
        "        self,\n",
        "        input_ids=None,\n",
        "        attention_mask=None,\n",
        "        token_type_ids=None,\n",
        "        position_ids=None,\n",
        "        head_mask=None,\n",
        "        inputs_embeds=None,\n",
        "        labels=None,\n",
        "        output_attentions=None,\n",
        "        output_hidden_states=None,\n",
        "        return_dict=None,\n",
        "    ):\n",
        "        r\"\"\"\n",
        "        labels (:obj:`torch.LongTensor` of shape :obj:`(batch_size, sequence_length)`, `optional`):\n",
        "            Labels for computing the token classification loss. Indices should be in ``[0, ..., config.num_labels -\n",
        "            1]``.\n",
        "        \"\"\"\n",
        "        return_dict = return_dict if return_dict is not None else self.config.use_return_dict\n",
        "\n",
        "        outputs = self.bert(\n",
        "            input_ids,\n",
        "            attention_mask=attention_mask,\n",
        "            token_type_ids=token_type_ids,\n",
        "            position_ids=position_ids,\n",
        "            head_mask=head_mask,\n",
        "            inputs_embeds=inputs_embeds,\n",
        "            output_attentions=output_attentions,\n",
        "            output_hidden_states=output_hidden_states,\n",
        "            return_dict=return_dict,\n",
        "        )\n",
        "\n",
        "        sequence_output = outputs[0]\n",
        "\n",
        "        sequence_output = self.dropout(sequence_output)\n",
        "        logits = self.classifier(sequence_output)\n",
        "\n",
        "        loss = None\n",
        "        if labels is not None:\n",
        "            loss_fct = torch.nn.BCEWithLogitsLoss()\n",
        "            \n",
        "            # Only keep active parts of the loss\n",
        "            if attention_mask is not None:\n",
        "                active_loss = attention_mask == 1\n",
        "                active_logits = logits.view(-1, self.num_labels)[active_loss.view(-1), :]\n",
        "                active_labels = labels[active_loss, :]\n",
        "\n",
        "                loss_fct = torch.nn.BCEWithLogitsLoss()\n",
        "                loss = loss_fct(active_logits, active_labels.float())\n",
        "            else:\n",
        "                loss = loss_fct(logits.view(-1, self.num_labels), labels.view(-1))\n",
        "\n",
        "        if not return_dict:\n",
        "            output = (logits,) + outputs[2:]\n",
        "            return ((loss,) + output) if loss is not None else output\n",
        "\n",
        "        return TokenClassifierOutput(\n",
        "            loss=loss,\n",
        "            logits=logits,\n",
        "            hidden_states=outputs.hidden_states,\n",
        "            attentions=outputs.attentions,\n",
        "        )"
      ],
      "execution_count": null,
      "outputs": []
    },
    {
      "cell_type": "code",
      "metadata": {
        "id": "COMU5tLGi88-"
      },
      "source": [
        "import torch\n",
        "##Load fine-tuned model from NER task\n",
        "PATH = \"/content/drive/MyDrive/model/bert_finetune.pt\"\n",
        "model = torch.load(PATH,map_location=torch.device('cpu'))"
      ],
      "execution_count": null,
      "outputs": []
    },
    {
      "cell_type": "code",
      "metadata": {
        "id": "c4HVc2NmupoD"
      },
      "source": [
        "from src.ieee_ner_coref import EntityClusterer\n",
        "from src.models import Entity\n",
        "from src.models import EntityClass\n",
        "\n",
        "data = []\n",
        "file = \"/content/entities.npy\"\n",
        "with open(file, \"r\") as f:\n",
        "    for line in f.readlines():\n",
        "        line = line.strip('\\n')  \n",
        "        data.append(line)\n",
        "data = np.load(file,allow_pickle=True)\n",
        "data = data.tolist()\n",
        "###Get the results from SetSimilaritySearch Clustering\n",
        "entity_groups = EntityClusterer(method='best').cluster(data)"
      ],
      "execution_count": null,
      "outputs": []
    },
    {
      "cell_type": "markdown",
      "metadata": {
        "id": "2iIVBjSZgFt3"
      },
      "source": [
        "### Find unclustered entities"
      ]
    },
    {
      "cell_type": "code",
      "metadata": {
        "id": "Jpcs9n5sgI1t"
      },
      "source": [
        "un_clustered_l = []\n",
        "for idx in range(len(data)):\n",
        "  tag = True\n",
        "  for i in range(len(entity_groups)):\n",
        "    for j in range(len(entity_groups[i])):\n",
        "      if data[idx].text in entity_groups[i][j].text:\n",
        "        tag = False\n",
        "  if tag == True:\n",
        "    un_clustered_l.append(data[idx])"
      ],
      "execution_count": null,
      "outputs": []
    },
    {
      "cell_type": "markdown",
      "metadata": {
        "id": "GpGtObmxnbra"
      },
      "source": [
        "###Save text for unclustered entities"
      ]
    },
    {
      "cell_type": "code",
      "metadata": {
        "id": "x74paJHknbQK"
      },
      "source": [
        "un_cluster = []\n",
        "for i in range(len(un_clustered_l)):\n",
        "  un_cluster.append(un_clustered_l[i].text)"
      ],
      "execution_count": null,
      "outputs": []
    },
    {
      "cell_type": "markdown",
      "metadata": {
        "id": "njk86yt2l5vb"
      },
      "source": [
        "### Get all the entities which are clustered"
      ]
    },
    {
      "cell_type": "code",
      "metadata": {
        "id": "dVoBhr_tl5KJ"
      },
      "source": [
        "cluster_entities = []\n",
        "for i in range(len(entity_groups)):\n",
        "    for j in range(len(entity_groups[i])):\n",
        "      cluster_entities.append(entity_groups[i][j].text)"
      ],
      "execution_count": null,
      "outputs": []
    },
    {
      "cell_type": "code",
      "metadata": {
        "id": "5-id7ke-Za5s"
      },
      "source": [
        "##Directly load saving lists\n",
        "file1 = '/content/cl_entities.npy'\n",
        "cluster_entities = np.load(file1,allow_pickle=True)\n",
        "cluster_entities = cluster_entities.tolist()\n",
        "file2 = '/content/un_entities.npy'\n",
        "un_cluster = np.load(file2,allow_pickle=True)\n",
        "un_cluster = un_cluster.tolist()"
      ],
      "execution_count": null,
      "outputs": []
    },
    {
      "cell_type": "markdown",
      "metadata": {
        "id": "hxgl80TzYbSQ"
      },
      "source": [
        "##BERT-based embedding measurement"
      ]
    },
    {
      "cell_type": "code",
      "metadata": {
        "colab": {
          "base_uri": "https://localhost:8080/"
        },
        "id": "QEhrnkRYN4oz",
        "outputId": "3a55979f-bef8-46c2-e8a7-9e2637fc7b09"
      },
      "source": [
        "### Get the dictionary for the Bert tokenizer\n",
        "!wget \"https://s3.amazonaws.com/models.huggingface.co/bert/bert-base-cased-vocab.txt\""
      ],
      "execution_count": null,
      "outputs": [
        {
          "output_type": "stream",
          "text": [
            "--2021-08-16 05:11:47--  https://s3.amazonaws.com/models.huggingface.co/bert/bert-base-cased-vocab.txt\n",
            "Resolving s3.amazonaws.com (s3.amazonaws.com)... 52.216.131.173\n",
            "Connecting to s3.amazonaws.com (s3.amazonaws.com)|52.216.131.173|:443... connected.\n",
            "HTTP request sent, awaiting response... 200 OK\n",
            "Length: 213450 (208K) [text/plain]\n",
            "Saving to: ‘bert-base-cased-vocab.txt’\n",
            "\n",
            "bert-base-cased-voc 100%[===================>] 208.45K   283KB/s    in 0.7s    \n",
            "\n",
            "2021-08-16 05:11:48 (283 KB/s) - ‘bert-base-cased-vocab.txt’ saved [213450/213450]\n",
            "\n"
          ],
          "name": "stdout"
        }
      ]
    },
    {
      "cell_type": "code",
      "metadata": {
        "id": "y7mDmIiuN4o0"
      },
      "source": [
        "vocab = []\n",
        "file = './bert-base-cased-vocab.txt'"
      ],
      "execution_count": null,
      "outputs": []
    },
    {
      "cell_type": "code",
      "metadata": {
        "colab": {
          "base_uri": "https://localhost:8080/"
        },
        "id": "Zd5rpRxON4o1",
        "outputId": "ead18e68-d505-4a72-f1a7-1bd1170cc26f"
      },
      "source": [
        "with open(file, \"r\") as f:\n",
        "    for line in f.readlines():\n",
        "        line = line.strip('\\n') \n",
        "        vocab.append(line)\n",
        "len(vocab)"
      ],
      "execution_count": null,
      "outputs": [
        {
          "output_type": "execute_result",
          "data": {
            "text/plain": [
              "28996"
            ]
          },
          "metadata": {
            "tags": []
          },
          "execution_count": 10
        }
      ]
    },
    {
      "cell_type": "code",
      "metadata": {
        "id": "3m-xUR7LN4o1"
      },
      "source": [
        "crf_w2i = {w : i for i, w in enumerate(vocab)}"
      ],
      "execution_count": null,
      "outputs": []
    },
    {
      "cell_type": "code",
      "metadata": {
        "id": "pzaMi2lvN4o1"
      },
      "source": [
        "def get_similarity(embeddings,\n",
        "                   w2i,\n",
        "                   term1,\n",
        "                   term2):\n",
        "    \"\"\"\n",
        "\n",
        "    \"\"\"\n",
        "    ## Check Terms\n",
        "    for term in term1 :\n",
        "        if term not in w2i:\n",
        "            raise KeyError(f\"Term `{term}` not found\")\n",
        "    for term in term2 :\n",
        "        if term not in w2i:\n",
        "            raise KeyError(f\"Term `{term}` not found\")\n",
        "    ## Get Indices\n",
        "    embeddings = embeddings.cpu()\n",
        "    term1_ind = [] \n",
        "    term2_ind = []\n",
        "    for term in term1 :\n",
        "      term1_ind.append(torch.LongTensor([w2i[term]]))\n",
        "    for term in term2 :\n",
        "      term2_ind.append(torch.LongTensor([w2i[term]]))\n",
        "  \n",
        "    ## Retrieve Embeddings and Compute Cosine Similarity\n",
        "    term1_embed = 0 \n",
        "    term2_embed = 0\n",
        "    for idx1 in term1_ind:\n",
        "      term1_embed += embeddings(idx1)\n",
        "    for idx2 in term2_ind:\n",
        "      term2_embed += embeddings(idx2)\n",
        "    term1_embed = term1_embed/(len(term1_ind))\n",
        "    term2_embed = term2_embed/(len(term2_ind))\n",
        "\n",
        "    distance = float(cosine_distances(term1_embed.detach(), term2_embed.detach()))\n",
        "    return distance\n",
        "    # print(term1, term2, distance)"
      ],
      "execution_count": null,
      "outputs": []
    },
    {
      "cell_type": "code",
      "metadata": {
        "id": "CL2djlVJN4o2",
        "colab": {
          "base_uri": "https://localhost:8080/",
          "height": 145,
          "referenced_widgets": [
            "597e88ab16524991ba04ca03616d3fe7",
            "3b6c997028ab480fa65d7d28805681fd",
            "4653f4a6939f4ca381ffde6ebcba3f78",
            "83758a0b65b84b10afbedff53b563240",
            "3e3d464a4c0a40569b0c3253c6046ef2",
            "28c18c76ef7243d79c40932f9bee5ffe",
            "8dee8deaa2774f4bbf8d5f297de083c7",
            "12c36f2e587e4957a7e9a33e9d84e31e",
            "5aa8c37f64194f15b6eb78f6c3f6b3c0",
            "bb886007e40e4b5e94ad8012dfddfc2a",
            "a9d31313b89945809358e9d14cfe3bc5",
            "de5653082fb7409d8b8968611f3b89f5",
            "80cb17d720184253bdb97bc2ee8cd510",
            "99eb786bc0604c6986fba34d20418638",
            "c0e971615f364dafae25fe37124f265a",
            "4aef28d9524b4ee3a148b79f160b6e70",
            "6fd361eb4dc54aa59ffdd5d3f4b8ae8d",
            "cdfbb83a3e6a42d3adaf950ad10531a8",
            "5e9a5d72702644d6ba3c663227c9e3f5",
            "3a6372511e654e7883965c5185d89d9c",
            "1158a1d314c940a18f5a3f60ced5f2fe",
            "02bd0f8326e84d9997f0f188de3c3dc2",
            "50f46469e3ee4f3791375c172c533064",
            "68f36179c7544c03b4f0002613be14ac",
            "9e1bbebcb7d34e7085cc31101b84bd48",
            "c103914aa8c748b59fce3e2200f88457",
            "973618fa014040c393c0dd6a63245e4a",
            "8bd75d7d610c40cfba6ef679149efbb6",
            "bb4c16ea55564bb5bd27e4008363c380",
            "fb45d2e6f07a4802b0a0efab677199c2",
            "a4b9177f3a734396a1c0daab16d9ca08",
            "6921a209aa084755b1af155f06c318cb",
            "f9e1913b5f5143e29b7da53f4863c0ef",
            "2b5a31f3ed1e414d96a5fa6b357ea310",
            "e259a43a28784187a4f5dedeb69e9d78",
            "78bc3126b93d465e8f4e50233902c6de",
            "c8504d0e9901456887aa558a8eba4ae9",
            "700edb80a3e742298d58e688d733f8ad",
            "5988cb02fb29459a910ab07aca5e3731",
            "3267961c69af46729f3eceb26afce8e0",
            "b6ea274190ed44018670a1a348d02d06",
            "6ecaf67bff7a4db4bb77224888645d5e",
            "3819b7f739624655b01086138bf026d3",
            "04bb4775f22d4043bc3cf8fa9e17a349"
          ]
        },
        "outputId": "ad4d7b6d-22a3-440b-fa7a-c5af88d40d69"
      },
      "source": [
        "### Retrieve embedding layer and the tokenizer\n",
        "embed = model.bert.embeddings.word_embeddings\n",
        "tokenizer = BertTokenizerFast.from_pretrained('bert-base-cased')"
      ],
      "execution_count": null,
      "outputs": [
        {
          "output_type": "display_data",
          "data": {
            "application/vnd.jupyter.widget-view+json": {
              "model_id": "597e88ab16524991ba04ca03616d3fe7",
              "version_minor": 0,
              "version_major": 2
            },
            "text/plain": [
              "Downloading:   0%|          | 0.00/213k [00:00<?, ?B/s]"
            ]
          },
          "metadata": {
            "tags": []
          }
        },
        {
          "output_type": "display_data",
          "data": {
            "application/vnd.jupyter.widget-view+json": {
              "model_id": "de5653082fb7409d8b8968611f3b89f5",
              "version_minor": 0,
              "version_major": 2
            },
            "text/plain": [
              "Downloading:   0%|          | 0.00/436k [00:00<?, ?B/s]"
            ]
          },
          "metadata": {
            "tags": []
          }
        },
        {
          "output_type": "display_data",
          "data": {
            "application/vnd.jupyter.widget-view+json": {
              "model_id": "50f46469e3ee4f3791375c172c533064",
              "version_minor": 0,
              "version_major": 2
            },
            "text/plain": [
              "Downloading:   0%|          | 0.00/29.0 [00:00<?, ?B/s]"
            ]
          },
          "metadata": {
            "tags": []
          }
        },
        {
          "output_type": "display_data",
          "data": {
            "application/vnd.jupyter.widget-view+json": {
              "model_id": "2b5a31f3ed1e414d96a5fa6b357ea310",
              "version_minor": 0,
              "version_major": 2
            },
            "text/plain": [
              "Downloading:   0%|          | 0.00/570 [00:00<?, ?B/s]"
            ]
          },
          "metadata": {
            "tags": []
          }
        }
      ]
    },
    {
      "cell_type": "code",
      "metadata": {
        "id": "essZYbt7N4o2"
      },
      "source": [
        "### Using cosine distance to measure similarity\n",
        "from sklearn.metrics.pairwise import cosine_distances"
      ],
      "execution_count": null,
      "outputs": []
    },
    {
      "cell_type": "code",
      "metadata": {
        "id": "8VeH1CImN4o3"
      },
      "source": [
        "entities = []\n",
        "file1 = './entities.txt'"
      ],
      "execution_count": null,
      "outputs": []
    },
    {
      "cell_type": "code",
      "metadata": {
        "colab": {
          "base_uri": "https://localhost:8080/"
        },
        "id": "mrhUxENxN4o3",
        "outputId": "acd0fc51-22e7-48af-b877-5f57e85ec073"
      },
      "source": [
        "with open(file1, \"r\") as f:\n",
        "    for line in f.readlines():\n",
        "        line = line.strip('\\n') \n",
        "        entities.append(line)\n",
        "len(entities)"
      ],
      "execution_count": null,
      "outputs": [
        {
          "output_type": "execute_result",
          "data": {
            "text/plain": [
              "318"
            ]
          },
          "metadata": {
            "tags": []
          },
          "execution_count": 21
        }
      ]
    },
    {
      "cell_type": "code",
      "metadata": {
        "id": "EqVfEnEcN4o3"
      },
      "source": [
        "### This function is for showing the most similar entities\n",
        "def show_similarity_top(term,data,num)->dict:\n",
        "  sort_dic = {}\n",
        "  for item in data:\n",
        "    item1 = tokenizer.tokenize(item)\n",
        "    temp = get_similarity(embed, crf_w2i, term,item1)\n",
        "    sort_dic[item] = temp\n",
        "  sorted_dic = dict(sorted(sort_dic.items(), key = lambda kv:(kv[1], kv[0])))\n",
        "  # print(sorted_dic)\n",
        "  cnt = 0 \n",
        "  for key, value in sorted_dic.items():\n",
        "      cnt += 1\n",
        "      if cnt > num:\n",
        "          break\n",
        "      print(\"{}:{}\".format(key, value)) "
      ],
      "execution_count": null,
      "outputs": []
    },
    {
      "cell_type": "code",
      "metadata": {
        "id": "TCnw4av5vqqq"
      },
      "source": [
        "def show_similarity(term,data)->dict:\n",
        "  sort_dic = {}\n",
        "  for item in data:\n",
        "    item1 = tokenizer.tokenize(item)\n",
        "    temp = get_similarity(embed, crf_w2i, term,item1)\n",
        "    sort_dic[item] = temp\n",
        "  sorted_dic = dict(sorted(sort_dic.items(), key = lambda kv:(kv[1], kv[0])))\n",
        "  return sorted_dic"
      ],
      "execution_count": null,
      "outputs": []
    },
    {
      "cell_type": "markdown",
      "metadata": {
        "id": "bOBuAwPKwmJV"
      },
      "source": [
        "###Test the functions"
      ]
    },
    {
      "cell_type": "code",
      "metadata": {
        "colab": {
          "base_uri": "https://localhost:8080/"
        },
        "id": "kue-qkWWarn-",
        "outputId": "60b0bbae-1d71-4d8c-d434-63b2e6aaec88"
      },
      "source": [
        "term = tokenizer.tokenize(\"CGs\")\n",
        "show_similarity_top(term,entities,10)"
      ],
      "execution_count": null,
      "outputs": [
        {
          "output_type": "stream",
          "text": [
            "CGs:0.0\n",
            "CG:0.11934900283813477\n",
            "CGF:0.2058941125869751\n",
            "AbDG:0.3184809684753418\n",
            "IEKFs:0.3396766781806946\n",
            "FG-NET:0.35870277881622314\n",
            "HOG:0.37542617321014404\n",
            "conceptual graph (CG):0.3831406235694885\n",
            "C4.5:0.4044969081878662\n",
            "conceptual graph formalism (CGF):0.4098879098892212\n"
          ],
          "name": "stdout"
        }
      ]
    },
    {
      "cell_type": "code",
      "metadata": {
        "colab": {
          "base_uri": "https://localhost:8080/"
        },
        "id": "0s7Bp4GpBSlD",
        "outputId": "584493eb-79fc-456e-91f5-b51a436841ae"
      },
      "source": [
        "term1 = tokenizer.tokenize('two layer hierarchical classification')\n",
        "term2 = tokenizer.tokenize('hierarchical clustering')\n",
        "get_similarity(embed,crf_w2i,term1,term2)"
      ],
      "execution_count": null,
      "outputs": [
        {
          "output_type": "execute_result",
          "data": {
            "text/plain": [
              "0.17247456312179565"
            ]
          },
          "metadata": {
            "tags": []
          },
          "execution_count": 50
        }
      ]
    },
    {
      "cell_type": "markdown",
      "metadata": {
        "id": "WoN5tB0sLEQx"
      },
      "source": [
        "Load the clustered entities and unclustered entities"
      ]
    },
    {
      "cell_type": "code",
      "metadata": {
        "id": "rdW_i0LqnLJO"
      },
      "source": [
        "file1 = '/content/cl_entities.npy'\n",
        "cluster = np.load(file1,allow_pickle=True)\n",
        "cluster = cluster.tolist()\n",
        "file2 = '/content/un_entities.npy'\n",
        "un_cluster = np.load(file2,allow_pickle=True)\n",
        "un_cluster = un_cluster.tolist()"
      ],
      "execution_count": null,
      "outputs": []
    },
    {
      "cell_type": "code",
      "metadata": {
        "id": "vD-4C6s91BQ6"
      },
      "source": [
        "### Load the clustered entities (only contain text)\n",
        "file3 = '/content/cluster_item.npy'\n",
        "cluster_item = np.load(file3,allow_pickle=True)"
      ],
      "execution_count": null,
      "outputs": []
    },
    {
      "cell_type": "code",
      "metadata": {
        "colab": {
          "base_uri": "https://localhost:8080/"
        },
        "id": "Sgdap_k01PxM",
        "outputId": "76f18d20-dee6-4e50-83f9-935e13884be4"
      },
      "source": [
        "### Number of clusters\n",
        "len(cluster_item)"
      ],
      "execution_count": null,
      "outputs": [
        {
          "output_type": "execute_result",
          "data": {
            "text/plain": [
              "80"
            ]
          },
          "metadata": {
            "tags": []
          },
          "execution_count": 20
        }
      ]
    },
    {
      "cell_type": "code",
      "metadata": {
        "id": "tRnXZCnOiVf4"
      },
      "source": [
        "### This function is to get the average tensor for each clusters\n",
        "def cluster_avg_embed(cluster_item,embeddings,tokenizer,w2i):\n",
        "  cluster_embed = []\n",
        "  for idx in range(len(cluster_item)):\n",
        "    avg = 0\n",
        "    for j in range(len(cluster_item[idx])):\n",
        "      embed_t = 0\n",
        "      term1 = tokenizer.tokenize(cluster_item[idx][j])\n",
        "      term_ind = []\n",
        "      for term in term1 :\n",
        "        term_ind.append(torch.LongTensor([w2i[term]]))\n",
        "      for idx1 in term_ind:\n",
        "        embed_t += embeddings(idx1)\n",
        "      embed_t = embed_t/(len(term_ind))\n",
        "      avg += embed_t\n",
        "    avg = avg/(len(cluster_item[idx]))\n",
        "    cluster_embed.append(avg)\n",
        "  return cluster_embed"
      ],
      "execution_count": null,
      "outputs": []
    },
    {
      "cell_type": "code",
      "metadata": {
        "id": "FLZSFgFvlSvI"
      },
      "source": [
        "## Get the embedding representations for each cluster\n",
        "cluster_embed = cluster_avg_embed(cluster_item,embed,tokenizer,crf_w2i)"
      ],
      "execution_count": null,
      "outputs": []
    },
    {
      "cell_type": "code",
      "metadata": {
        "id": "d6LrqrLMuswu"
      },
      "source": [
        "## Save embedding tensors\n",
        "val= torch.tensor([item.cpu().detach().numpy() for item in cluster_embed])\n",
        "np.save('/content/cluster_embed.npy',val)\n",
        "## Load embedding tensors\n",
        "cluster_embed = np.load('/content/cluster_embed.npy')\n",
        "cluster_embed = cluster_embed.tolist()"
      ],
      "execution_count": null,
      "outputs": []
    },
    {
      "cell_type": "code",
      "metadata": {
        "id": "qvxcqpBerNA4"
      },
      "source": [
        "###This function is to get the embedding representation of a single term\n",
        "def get_embedding(term,tokenizer,w2i,embeddings):\n",
        "  term1 = tokenizer.tokenize(term)\n",
        "  temp = 0\n",
        "  term_ind = []\n",
        "  for t in term1 :\n",
        "    term_ind.append(torch.LongTensor([w2i[t]]))\n",
        "  for idx1 in term_ind:\n",
        "    temp += embeddings(idx1)\n",
        "  temp = temp/(len(term_ind))\n",
        "  return temp"
      ],
      "execution_count": null,
      "outputs": []
    },
    {
      "cell_type": "code",
      "metadata": {
        "id": "EdLhiUdsnnxT"
      },
      "source": [
        "### This function is to calculate distance between embeddings\n",
        "def embed_cos_distance(cluster_embed_,term):\n",
        "  dict_r = {}\n",
        "  for i in range(len(cluster_embed_)):\n",
        "    distance = float(cosine_distances(cluster_embed_[i].detach(), term.detach()))\n",
        "    dict_r[i] = distance\n",
        "  return dict_r"
      ],
      "execution_count": null,
      "outputs": []
    },
    {
      "cell_type": "markdown",
      "metadata": {
        "id": "rarEZ4ljVbyq"
      },
      "source": [
        "TEST"
      ]
    },
    {
      "cell_type": "code",
      "metadata": {
        "colab": {
          "base_uri": "https://localhost:8080/"
        },
        "id": "X2yB5-azVdAo",
        "outputId": "f3cb89b6-609f-4d5f-a416-0bbb931b84ee"
      },
      "source": [
        "term1 = tokenizer.tokenize('multi-coil MRI')\n",
        "term2 = tokenizer.tokenize('multiple coil MRI(Magnetic Resonance Imaging) ')\n",
        "get_similarity(embed,crf_w2i,term1,term2)"
      ],
      "execution_count": null,
      "outputs": [
        {
          "output_type": "execute_result",
          "data": {
            "text/plain": [
              "0.13428616523742676"
            ]
          },
          "metadata": {
            "tags": []
          },
          "execution_count": 29
        }
      ]
    },
    {
      "cell_type": "markdown",
      "metadata": {
        "id": "R-QYtTIQBYWR"
      },
      "source": [
        "###Find entities which should be included into the clusters"
      ]
    },
    {
      "cell_type": "code",
      "metadata": {
        "id": "S190brEsI6e3"
      },
      "source": [
        "mod_list_ = []\n",
        "### Basically, for each unclustered entity comparing cosine distance with each cluster and decide whether it should be included. \n",
        "for w in un_cluster:\n",
        "  dict_ = {}\n",
        "  w_embed = get_embedding(w,tokenizer,crf_w2i,embed)\n",
        "  res = embed_cos_distance(cluster_embed,w_embed)\n",
        "  if len(w)<=8:\n",
        "    if res[min(res, key=res.get)]<0.28:\n",
        "      dict_[w] = min(res, key=res.get)\n",
        "      mod_list_.append(dict_)\n",
        "  else:\n",
        "    if res[min(res, key=res.get)]<0.35:\n",
        "      dict_[w] = min(res, key=res.get)\n",
        "      mod_list_.append(dict_)"
      ],
      "execution_count": null,
      "outputs": []
    },
    {
      "cell_type": "code",
      "metadata": {
        "colab": {
          "base_uri": "https://localhost:8080/"
        },
        "id": "80xKTHJUMQzW",
        "outputId": "5e702934-efe6-4f45-db7d-e63d3f262400"
      },
      "source": [
        "### The entities which should be included (of course a small part of this would be misplaced)\n",
        "### The keys in the dict are entities text and values are clusters index\n",
        "mod_list_"
      ],
      "execution_count": null,
      "outputs": [
        {
          "output_type": "execute_result",
          "data": {
            "text/plain": [
              "[{'multi-aspect SAR': 10},\n",
              " {'SIFT (scale invariant feature transform)': 42},\n",
              " {'phase correlation': 63},\n",
              " {'CGs': 5},\n",
              " {'Predictive Diagnostic Optimisation': 66},\n",
              " {'Naive Bayes Classifier': 53},\n",
              " {'hierarchical-like particle filter': 73},\n",
              " {'fuzzy CMAC': 21},\n",
              " {'semi-fragile watermark': 67},\n",
              " {'SIFT-based face recognition': 42},\n",
              " {'Scale Invariant Feature Transform (or SIFT)': 42},\n",
              " {'SIFT-based': 42},\n",
              " {'two layer hierarchical classification': 73},\n",
              " {'non-local means': 47},\n",
              " {'Sugeno Measures': 59},\n",
              " {'interval type-2 fuzzy logic': 77},\n",
              " {'modular neural network': 60},\n",
              " {'Non-hierarchical k-means': 73},\n",
              " {'FPGA-based Naive Bayes': 53},\n",
              " {'IEKFs': 17}]"
            ]
          },
          "metadata": {
            "tags": []
          },
          "execution_count": 124
        }
      ]
    },
    {
      "cell_type": "code",
      "metadata": {
        "id": "0vsIw_92X9iZ"
      },
      "source": [
        "add_list = []\n",
        "for i in range(len(mod_list_)):\n",
        "  key, = mod_list_[i].keys()\n",
        "  add_list.append(key)"
      ],
      "execution_count": null,
      "outputs": []
    },
    {
      "cell_type": "code",
      "metadata": {
        "colab": {
          "base_uri": "https://localhost:8080/"
        },
        "id": "ORuwsefvfR67",
        "outputId": "406b722e-1e2f-4262-b10f-2a5dd46822fc"
      },
      "source": [
        "term1 = tokenizer.tokenize('Bayesian theorem')\n",
        "term2 = tokenizer.tokenize('Bayesian-MCMC')\n",
        "get_similarity(embed,crf_w2i,term1,term2)"
      ],
      "execution_count": null,
      "outputs": [
        {
          "output_type": "execute_result",
          "data": {
            "text/plain": [
              "0.2753172516822815"
            ]
          },
          "metadata": {
            "tags": []
          },
          "execution_count": 68
        }
      ]
    },
    {
      "cell_type": "code",
      "metadata": {
        "colab": {
          "base_uri": "https://localhost:8080/"
        },
        "id": "HupMftyjgv5O",
        "outputId": "9dadeef5-cfd2-4c44-e55f-72958e77690c"
      },
      "source": [
        "term1 = tokenizer.tokenize('hyperspectral band grouping')\n",
        "term2 = tokenizer.tokenize('hyperspectral analysis')\n",
        "get_similarity(embed,crf_w2i,term1,term2)"
      ],
      "execution_count": null,
      "outputs": [
        {
          "output_type": "execute_result",
          "data": {
            "text/plain": [
              "0.14471805095672607"
            ]
          },
          "metadata": {
            "tags": []
          },
          "execution_count": 39
        }
      ]
    },
    {
      "cell_type": "code",
      "metadata": {
        "id": "27zLzYCLd15f"
      },
      "source": [
        "## remained entities of un_clustered list after Bert-embedding process\n",
        "remain_list = list(set(un_cluster).difference(set(add_list)))"
      ],
      "execution_count": null,
      "outputs": []
    },
    {
      "cell_type": "code",
      "metadata": {
        "colab": {
          "base_uri": "https://localhost:8080/"
        },
        "id": "Yajog-CL2r-g",
        "outputId": "fbe2c04e-90c0-4822-b832-b00146ca4777"
      },
      "source": [
        "remain_list"
      ],
      "execution_count": null,
      "outputs": [
        {
          "output_type": "execute_result",
          "data": {
            "text/plain": [
              "['Bayesian theorem',\n",
              " '(RPat)',\n",
              " 'ANASTASIL',\n",
              " 'multi-band wavelet',\n",
              " '10-fold cross validation',\n",
              " 'Xbox 360',\n",
              " 'Vision-based microassembly',\n",
              " 'simultaneous backward geocoding',\n",
              " 'memory learning strategy',\n",
              " 'tactile information processing',\n",
              " 'YOHO',\n",
              " 'EER',\n",
              " 'Intelligent Reduction Algorithm based on Expert Knowledge',\n",
              " 'power spectral density estimation',\n",
              " 'pictorial-structures',\n",
              " 'Voting Logic Fusion',\n",
              " 'mixed-mode multiresolution motion estimation',\n",
              " 'artificial potential field',\n",
              " 'least-squares',\n",
              " 'fuzzy inference',\n",
              " 'spatial adaptivity',\n",
              " 'WordNet',\n",
              " 'super-resolution mapping',\n",
              " 'PSNR',\n",
              " 'EMT',\n",
              " 'DCT',\n",
              " 'coarse-to-fine optical flow',\n",
              " 'Multi-Interval ID3',\n",
              " 'knowledge-based document-analysis',\n",
              " 'Road segment Partitioning',\n",
              " 'hyperspectral analysis',\n",
              " 'dynamic time warping',\n",
              " 'bigram models',\n",
              " 'CAS-PEAL',\n",
              " 'super-resolution mapping analyses',\n",
              " 'stereoscopic rendering',\n",
              " 'Middlebury1',\n",
              " 'stochastic cloning',\n",
              " 'best-first search',\n",
              " 'PKI (Public Key Infrastructure) based semi-fragile watermarking',\n",
              " 'CAVIAR',\n",
              " 'hold-out',\n",
              " 'Modified Newton-Raphson',\n",
              " 'SD-Scicon UK Ltd',\n",
              " 'fully connected recurrent network',\n",
              " 'block feature motion estimation',\n",
              " 'C4.5',\n",
              " 'FERET',\n",
              " 'pixels binning',\n",
              " 'Temporal Decision Tree',\n",
              " 'Diagnostic Optimisation',\n",
              " 'soft image classification',\n",
              " ' geometric primitive features',\n",
              " 'multiple coil MRI(Magnetic Resonance Imaging) ',\n",
              " 'low-level features vector quantization',\n",
              " 'double Markov random field',\n",
              " 'monaural separation',\n",
              " 'hyperspectral band grouping',\n",
              " 'surveillance context (scale invariant image transform (SIFT) keypoints',\n",
              " 'lossless encoding',\n",
              " 'Localist Attractor Network',\n",
              " 'dyadic wavelet',\n",
              " 'MR spectroscopy',\n",
              " 'watermark embedding',\n",
              " 'Bayesian-MCMC',\n",
              " 'JAFFE',\n",
              " 'scale-space filtered coordinate functions',\n",
              " 'LBP',\n",
              " 'Transferable Belief Model',\n",
              " 'VerbNet',\n",
              " 'reversible jump MCMC',\n",
              " 'classifier integration model(CIM)',\n",
              " 'airborne InSAR',\n",
              " 'color stereo matching',\n",
              " 'region-based flocking',\n",
              " 'minimax optimization',\n",
              " 'TNO MARS/Prescan2',\n",
              " 'full orthostereoscopic image capture and projection',\n",
              " 'BodiPod',\n",
              " 'OpenNLP',\n",
              " 'linear minimum variance recursive one-shot procedure',\n",
              " 'mean matching',\n",
              " 'Hotelling transform',\n",
              " 'edge-preserving filter',\n",
              " 'region-based image coding',\n",
              " 'tactile sensory suppression',\n",
              " 'NIST',\n",
              " 'parametric masking',\n",
              " 'even symmetric Gabor filters',\n",
              " 'Conditional Colored Petri Nets',\n",
              " 'recurrent network',\n",
              " '2D pose estimation',\n",
              " 'HOG',\n",
              " 'man-machine cooperative intelligent reduction',\n",
              " 'Signal Detection Theory',\n",
              " 'AdaBoost',\n",
              " 'Darwin machines',\n",
              " 'example-based approach',\n",
              " '3D SCAPE',\n",
              " 'bilateral filtering',\n",
              " 'coarse to fine',\n",
              " 'complex wavelet',\n",
              " 'acoustic finger prints',\n",
              " 'gaussian mixtures',\n",
              " 'Gestalt laws',\n",
              " 'MIT, INRIA',\n",
              " '1-inch UniTouch',\n",
              " 'Henon map',\n",
              " 'EKF-SLAM',\n",
              " 'Haar-like',\n",
              " 'coherent subspace methods',\n",
              " 'Attribute-based Decision Graph',\n",
              " 'Particle swarm optimization',\n",
              " 'Sensor fusion',\n",
              " 'multi-coil MRI',\n",
              " 'FG-NET',\n",
              " 'non-stationary noise estimation',\n",
              " 'automated microassembly',\n",
              " 'Extended Yale face database B',\n",
              " 'Receiver Operator Characteristic curves']"
            ]
          },
          "metadata": {
            "tags": []
          },
          "execution_count": 72
        }
      ]
    },
    {
      "cell_type": "markdown",
      "metadata": {
        "id": "h6-J33nqNik9"
      },
      "source": [
        "###Add entities which should be included to the original clusters"
      ]
    },
    {
      "cell_type": "code",
      "metadata": {
        "id": "t7p6J7k9LCql"
      },
      "source": [
        "###In order to keep the consistency of entities, construct \n",
        "file2 = '/content/entities.npy'\n",
        "entities = np.load(file2,allow_pickle=True)"
      ],
      "execution_count": null,
      "outputs": []
    },
    {
      "cell_type": "code",
      "metadata": {
        "id": "-OZ_puzNObSM"
      },
      "source": [
        "def get_Entity(text,entities):\n",
        "  res = 0\n",
        "  for x in entities:\n",
        "    if text == x.text:\n",
        "      res = x\n",
        "      break\n",
        "  return res"
      ],
      "execution_count": null,
      "outputs": []
    },
    {
      "cell_type": "code",
      "metadata": {
        "id": "TUzGKa8CJ6I2"
      },
      "source": [
        "###Using following operations to add mishandled entities into clusters\n",
        "for item in mod_list_:\n",
        "  for i in range(len(entity_groups)):\n",
        "    flag = 0\n",
        "    for j in range(len(entity_groups[i])):\n",
        "      if item==entity_groups[i][j].text:\n",
        "        temp = get_Entity(item,entities)\n",
        "        entity_groups[i].append(temp)\n",
        "        flag = 1\n",
        "        break\n",
        "    if flag == 1:\n",
        "      break"
      ],
      "execution_count": null,
      "outputs": []
    },
    {
      "cell_type": "markdown",
      "metadata": {
        "id": "YGFReakjVwsj"
      },
      "source": [
        "###DBSCAN(find new clusters)"
      ]
    },
    {
      "cell_type": "code",
      "metadata": {
        "colab": {
          "base_uri": "https://localhost:8080/"
        },
        "id": "MItoJMrWVwPr",
        "outputId": "1d96395e-ffda-4f2a-d5b5-f4fdbafaec88"
      },
      "source": [
        "# from sklearn import datasets\n",
        "X = remain_list.copy()\n",
        "import numpy as np\n",
        "import random\n",
        "import time\n",
        "def findNeighbor(j,X,eps,distance,embed,crf_w2i,tokenizer):\n",
        "    N=[]\n",
        "    for p in range(len(X)):   #Find all objects in a neighbourhood\n",
        "        term1 = tokenizer.tokenize(X[j])\n",
        "        term2 = tokenizer.tokenize(X[p])\n",
        "        temp = distance(embed,crf_w2i,term1,term2) #cosine distance\n",
        "        # temp=np.sqrt(np.sum(np.square(X[j]-X[p])))   #Euclidean distance\n",
        "        if(temp<=eps):\n",
        "            N.append(p)\n",
        "    return N\n",
        "\n",
        "\n",
        "def dbscan(X,eps,min_Pts,distance,embed,crf_w2i,tokenizer):\n",
        "    k=-1\n",
        "    NeighborPts=[]      #array,all items in a neighbourhood\n",
        "    Ner_NeighborPts=[]\n",
        "    fil=[]                          #visited list to be empty at start\n",
        "    gama=[x for x in range(len(X))]            # all the items should be un-visited at start\n",
        "    cluster=[-1 for y in range(len(X))]\n",
        "    while len(gama)>0:\n",
        "        j=random.choice(gama)\n",
        "        gama.remove(j)  #remove from un-visited\n",
        "        fil.append(j)   #add to visited\n",
        "        NeighborPts=findNeighbor(j,X,eps,distance,embed,crf_w2i,tokenizer)\n",
        "        if len(NeighborPts) < min_Pts:\n",
        "            cluster[j]=-1   #mark as a noise point\n",
        "        else:\n",
        "            k=k+1\n",
        "            cluster[j]=k\n",
        "            for i in NeighborPts:\n",
        "                if i not in fil:\n",
        "                    gama.remove(i)\n",
        "                    fil.append(i)\n",
        "                    Ner_NeighborPts=findNeighbor(i,X,eps,distance,embed,crf_w2i,tokenizer)\n",
        "                    if len(Ner_NeighborPts) >= min_Pts:\n",
        "                        for a in Ner_NeighborPts:\n",
        "                            if a not in NeighborPts:\n",
        "                                NeighborPts.append(a)\n",
        "                    if (cluster[i]==-1):\n",
        "                        cluster[i]=k\n",
        "    return cluster\n",
        "\n",
        "\n",
        "eps=0.27\n",
        "min_Pts=2\n",
        "begin=time.time()\n",
        "C=dbscan(X,eps,min_Pts,get_similarity,embed,crf_w2i,tokenizer)\n",
        "end=time.time()\n",
        "print (\"time using:\",end-begin)\n"
      ],
      "execution_count": null,
      "outputs": [
        {
          "output_type": "stream",
          "text": [
            "time using: 13.966970920562744\n"
          ],
          "name": "stdout"
        }
      ]
    },
    {
      "cell_type": "code",
      "metadata": {
        "colab": {
          "base_uri": "https://localhost:8080/"
        },
        "id": "Ibe9co6sfU5o",
        "outputId": "cffee560-6fb3-40f3-8a9c-edf60fd779fd"
      },
      "source": [
        "##Get index for each new clusters\n",
        "from collections import defaultdict\n",
        "d = defaultdict(list)\n",
        "for k,va in [(v,i) for i,v in enumerate(C)]:\n",
        " d[k].append(va)\n",
        "print(d)"
      ],
      "execution_count": null,
      "outputs": [
        {
          "output_type": "stream",
          "text": [
            "defaultdict(<class 'list'>, {-1: [0, 1, 2, 4, 5, 7, 8, 10, 11, 12, 13, 14, 15, 16, 17, 18, 19, 20, 21, 23, 24, 25, 27, 28, 29, 31, 32, 33, 35, 36, 37, 38, 39, 40, 41, 42, 43, 45, 46, 47, 48, 49, 50, 51, 52, 53, 54, 55, 56, 58, 59, 60, 61, 62, 63, 64, 65, 66, 67, 68, 69, 70, 71, 72, 73, 74, 75, 76, 77, 78, 79, 80, 81, 82, 83, 84, 86, 87, 88, 89, 91, 92, 93, 94, 95, 96, 97, 98, 99, 102, 103, 104, 105, 106, 107, 108, 109, 110, 111, 112, 113, 114, 115, 116, 118, 119], 3: [3, 101], 4: [6, 117], 1: [9, 85], 5: [22, 34], 2: [26, 100], 6: [30, 57], 0: [44, 90]})\n"
          ],
          "name": "stdout"
        }
      ]
    },
    {
      "cell_type": "code",
      "metadata": {
        "colab": {
          "base_uri": "https://localhost:8080/"
        },
        "id": "2ooEff9vy-Fz",
        "outputId": "4dab81d5-ea94-4dac-906a-0e72de4ed669"
      },
      "source": [
        "new_cluster_l = []\n",
        "# cluster_num = len(entity_groups)\n",
        "cluster_num = 80\n",
        "for i in range(max(C)+1):\n",
        "  temp = {}\n",
        "  temp[cluster_num+i] = [X[idx] for idx in d[i]]\n",
        "  new_cluster_l.append(temp)\n",
        "new_cluster_l"
      ],
      "execution_count": null,
      "outputs": [
        {
          "output_type": "execute_result",
          "data": {
            "text/plain": [
              "[{80: ['fully connected recurrent network', 'recurrent network']},\n",
              " {81: ['tactile information processing', 'tactile sensory suppression']},\n",
              " {82: ['coarse-to-fine optical flow', 'coarse to fine']},\n",
              " {83: ['multi-band wavelet', 'complex wavelet']},\n",
              " {84: ['Vision-based microassembly', 'automated microassembly']},\n",
              " {85: ['super-resolution mapping', 'super-resolution mapping analyses']},\n",
              " {86: ['hyperspectral analysis', 'hyperspectral band grouping']}]"
            ]
          },
          "metadata": {
            "tags": []
          },
          "execution_count": 71
        }
      ]
    },
    {
      "cell_type": "code",
      "metadata": {
        "id": "jD0y4l1shOzM"
      },
      "source": [
        "### Add new clusters into original list\n",
        "entity_groups.append(new_cluster_l)"
      ],
      "execution_count": null,
      "outputs": []
    },
    {
      "cell_type": "markdown",
      "metadata": {
        "id": "wNlIrCSEEtTi"
      },
      "source": [
        "##SpanBERT for embedding measurement"
      ]
    },
    {
      "cell_type": "code",
      "metadata": {
        "colab": {
          "base_uri": "https://localhost:8080/",
          "height": 222,
          "referenced_widgets": [
            "ceab559eb1f74b15b33db01535fd6abd",
            "67ee75f9da074df2ba0bc0f288fbe65f",
            "0a32cb18a7fc467d8a66836c5c2f8511",
            "f41353702637448db1d1997718178e07",
            "68c040113a304301b1cc6bc73d13ebfa",
            "bb96b2b070a9482e8799da6fd726487c",
            "e09a1277ba9b493eb1878f203984cfd1",
            "ccd3d330b84f492db5377ad387e3ffae",
            "f494dc03c5de446cb5e205264cc9ddfd",
            "9a46653bc667479b8a1ff73013177b7d",
            "bd03b6154e6a4e049716e505d499cf6f",
            "819aa88c7207460fa2bf3ffa4b9e904e",
            "7451a0f160e74a32b8b958d9d372c0f6",
            "398401a3bb314a4c9fd254cbc1fca2c0",
            "b93690fd965b4ec980930df14cf64a12",
            "f3a784a8f65f44d7be191d10b8a9da98",
            "2532aaeedf7b41798b6b0baeae949599",
            "c74b8a11845b4601a3d2a66a9f9bc33f",
            "2fe98f708fe74767897d94273b1f4e21",
            "43b379453d9c435aa4361b1346ef02c1",
            "82f291b0a1994312b6dd9e4053f9e2df",
            "79fa9c41f7a048509ad44fe6824baf9c",
            "a9c51f7f625f4a7595cf600aeb270698",
            "dd2d4b6947f54f75ac68ad410527973a"
          ]
        },
        "id": "aE6NyLdBGA3w",
        "outputId": "312af8a1-5269-43de-fb9b-12db140876d7"
      },
      "source": [
        "# Import generic wrappers\n",
        "from transformers import AutoModel, AutoTokenizer \n",
        "\n",
        "\n",
        "# Define the model repo\n",
        "model_name = \"SpanBERT/spanbert-base-cased\" \n",
        "\n",
        "\n",
        "# Download pytorch model\n",
        "model = AutoModel.from_pretrained(model_name)\n",
        "tokenizer = AutoTokenizer.from_pretrained(model_name)"
      ],
      "execution_count": null,
      "outputs": [
        {
          "output_type": "display_data",
          "data": {
            "application/vnd.jupyter.widget-view+json": {
              "model_id": "ceab559eb1f74b15b33db01535fd6abd",
              "version_minor": 0,
              "version_major": 2
            },
            "text/plain": [
              "HBox(children=(FloatProgress(value=0.0, description='Downloading', max=413.0, style=ProgressStyle(description_…"
            ]
          },
          "metadata": {
            "tags": []
          }
        },
        {
          "output_type": "stream",
          "text": [
            "\n"
          ],
          "name": "stdout"
        },
        {
          "output_type": "display_data",
          "data": {
            "application/vnd.jupyter.widget-view+json": {
              "model_id": "f494dc03c5de446cb5e205264cc9ddfd",
              "version_minor": 0,
              "version_major": 2
            },
            "text/plain": [
              "HBox(children=(FloatProgress(value=0.0, description='Downloading', max=215475882.0, style=ProgressStyle(descri…"
            ]
          },
          "metadata": {
            "tags": []
          }
        },
        {
          "output_type": "stream",
          "text": [
            "\n"
          ],
          "name": "stdout"
        },
        {
          "output_type": "stream",
          "text": [
            "Some weights of BertModel were not initialized from the model checkpoint at SpanBERT/spanbert-base-cased and are newly initialized: ['bert.pooler.dense.bias', 'bert.pooler.dense.weight']\n",
            "You should probably TRAIN this model on a down-stream task to be able to use it for predictions and inference.\n"
          ],
          "name": "stderr"
        },
        {
          "output_type": "display_data",
          "data": {
            "application/vnd.jupyter.widget-view+json": {
              "model_id": "2532aaeedf7b41798b6b0baeae949599",
              "version_minor": 0,
              "version_major": 2
            },
            "text/plain": [
              "HBox(children=(FloatProgress(value=0.0, description='Downloading', max=213450.0, style=ProgressStyle(descripti…"
            ]
          },
          "metadata": {
            "tags": []
          }
        },
        {
          "output_type": "stream",
          "text": [
            "\n"
          ],
          "name": "stdout"
        }
      ]
    },
    {
      "cell_type": "code",
      "metadata": {
        "id": "2Xh9Y1vMevI5"
      },
      "source": [
        "span_embed = model.embeddings.word_embeddings"
      ],
      "execution_count": null,
      "outputs": []
    },
    {
      "cell_type": "code",
      "metadata": {
        "colab": {
          "base_uri": "https://localhost:8080/"
        },
        "id": "XvnTTLzjyttP",
        "outputId": "d318418e-7c47-442f-c1fb-158fac7b81ec"
      },
      "source": [
        "###Test the feasibility of tokenizer and embedding\n",
        "term1 = tokenizer.tokenize('two layer hierarchical classification')\n",
        "term2 = tokenizer.tokenize('hierarchical clustering')\n",
        "get_similarity(span_embed,crf_w2i,term1,term2)"
      ],
      "execution_count": null,
      "outputs": [
        {
          "output_type": "execute_result",
          "data": {
            "text/plain": [
              "0.11089026927947998"
            ]
          },
          "metadata": {
            "tags": []
          },
          "execution_count": 145
        }
      ]
    },
    {
      "cell_type": "code",
      "metadata": {
        "id": "W3EBB-A21mRe"
      },
      "source": [
        "def show_similarity_top1(term,data,num)->dict:\n",
        "  sort_dic = {}\n",
        "  for item in data:\n",
        "    item1 = tokenizer.tokenize(item)\n",
        "    temp = get_similarity(span_embed, crf_w2i, term,item1)\n",
        "    sort_dic[item] = temp\n",
        "  sorted_dic = dict(sorted(sort_dic.items(), key = lambda kv:(kv[1], kv[0])))\n",
        "  # print(sorted_dic)\n",
        "  cnt = 0 \n",
        "  for key, value in sorted_dic.items():\n",
        "      cnt += 1\n",
        "      if cnt > num:\n",
        "          break\n",
        "      print(\"{}:{}\".format(key, value)) "
      ],
      "execution_count": null,
      "outputs": []
    },
    {
      "cell_type": "code",
      "metadata": {
        "colab": {
          "base_uri": "https://localhost:8080/"
        },
        "id": "gETkqbaD1qoq",
        "outputId": "f169597f-ea02-4740-cd93-3d19b4403d9a"
      },
      "source": [
        "term = tokenizer.tokenize(\"CGs\")\n",
        "show_similarity_top1(term,entities,10)"
      ],
      "execution_count": null,
      "outputs": [
        {
          "output_type": "stream",
          "text": [
            "CGs:4.76837158203125e-07\n",
            "CG:0.18933910131454468\n",
            "CGF:0.2702394723892212\n",
            "HME-CPS:0.2835298180580139\n",
            "CP:0.30165767669677734\n",
            "CF:0.3144184350967407\n",
            "CIM:0.32503771781921387\n",
            "human-machine-environment cyber-physical system (HME-CPS):0.34812843799591064\n",
            "conceptual graph (CG):0.360026478767395\n",
            "CAS-PEAL:0.36104893684387207\n"
          ],
          "name": "stdout"
        }
      ]
    },
    {
      "cell_type": "code",
      "metadata": {
        "id": "a5UONgS-4-zm"
      },
      "source": [
        "cluster_embed_span = cluster_avg_embed(cluster_item,span_embed,tokenizer,crf_w2i)"
      ],
      "execution_count": null,
      "outputs": []
    },
    {
      "cell_type": "code",
      "metadata": {
        "id": "Xi-KzDBJ4iWp"
      },
      "source": [
        "mod_list_span = []\n",
        "for w in un_cluster:\n",
        "  dict_ = {}\n",
        "  w_embed = get_embedding(w,tokenizer,crf_w2i,span_embed)\n",
        "  res = embed_cos_distance(cluster_embed_span,w_embed)\n",
        "  if res[min(res, key=res.get)]<0.20:\n",
        "    dict_[w] = min(res, key=res.get)\n",
        "    mod_list_span.append(dict_)"
      ],
      "execution_count": null,
      "outputs": []
    },
    {
      "cell_type": "markdown",
      "metadata": {
        "id": "Npe0eFKm8hoV"
      },
      "source": [
        "Note: spanBert embedding dose not perform well in this case"
      ]
    },
    {
      "cell_type": "code",
      "metadata": {
        "colab": {
          "base_uri": "https://localhost:8080/"
        },
        "id": "R1K76g1D5Hbo",
        "outputId": "fc1ba55c-bcee-440f-eb9c-86b71355e8cc"
      },
      "source": [
        "mod_list_span"
      ],
      "execution_count": null,
      "outputs": [
        {
          "output_type": "execute_result",
          "data": {
            "text/plain": [
              "[{'multi-aspect SAR': 10},\n",
              " {'Haar-like': 29},\n",
              " {'phase correlation': 63},\n",
              " {'Bayesian-MCMC': 21},\n",
              " {'reversible jump MCMC': 21},\n",
              " {'OpenNLP': 16},\n",
              " {'low-level features vector quantization': 36},\n",
              " {'multi-coil MRI': 16},\n",
              " {'Predictive Diagnostic Optimisation': 66},\n",
              " {'Temporal Decision Tree': 57},\n",
              " {'Naive Bayes Classifier': 53},\n",
              " {'hierarchical-like particle filter': 73},\n",
              " {'semi-fragile watermark': 67},\n",
              " {'PKI (Public Key Infrastructure) based semi-fragile watermarking': 29},\n",
              " {'CAS-PEAL': 29},\n",
              " {'FG-NET': 0},\n",
              " {'SIFT-based': 42},\n",
              " {'two layer hierarchical classification': 73},\n",
              " {'coarse-to-fine optical flow': 61},\n",
              " {'non-local means': 47},\n",
              " {'Sugeno Measures': 59},\n",
              " {'interval type-2 fuzzy logic': 77},\n",
              " {'Non-hierarchical k-means': 73},\n",
              " {'FPGA-based Naive Bayes': 0},\n",
              " {'TNO MARS/Prescan2': 16},\n",
              " {'stochastic cloning': 7},\n",
              " {'SD-Scicon UK Ltd': 39}]"
            ]
          },
          "metadata": {
            "tags": []
          },
          "execution_count": 173
        }
      ]
    },
    {
      "cell_type": "markdown",
      "metadata": {
        "id": "kIzPNEAYtj1x"
      },
      "source": [
        "##Function for searching relative Entities"
      ]
    },
    {
      "cell_type": "markdown",
      "metadata": {
        "id": "BrnryQpXNugo"
      },
      "source": [
        "note: you can get the corresponding cluster information by this function"
      ]
    },
    {
      "cell_type": "code",
      "metadata": {
        "id": "wkFMtrEjusBn"
      },
      "source": [
        "def find_crf(word,new_cluster):\n",
        "  for i in range(len(new_cluster)):\n",
        "    flag = False\n",
        "    for j in range(len(new_cluster[i])):\n",
        "      if word == new_cluster[i][j].text:\n",
        "        flag = True        \n",
        "    if flag == True:\n",
        "      print(new_cluster[i])\n",
        "    #   res.append(new_cluster[i])\n",
        "    # return res\n",
        "\n",
        "### Example\n",
        "find_crf('FCMAC',entity_groups)"
      ],
      "execution_count": null,
      "outputs": []
    }
  ]
}